{
 "cells": [
  {
   "cell_type": "markdown",
   "metadata": {},
   "source": [
    "## Homework_7"
   ]
  },
  {
   "cell_type": "code",
   "execution_count": 1,
   "metadata": {},
   "outputs": [],
   "source": [
    "import numpy as np"
   ]
  },
  {
   "cell_type": "code",
   "execution_count": 2,
   "metadata": {},
   "outputs": [],
   "source": [
    "from math import sqrt"
   ]
  },
  {
   "cell_type": "markdown",
   "metadata": {},
   "source": [
    "1. Даны значения величины заработной платы заемщиков банка (zp) и значения их поведенческого кредитного скоринга (ks): zp = [35, 45, 190, 200, 40, 70, 54, 150, 120, 110], ks = [401, 574, 874, 919, 459, 739, 653, 902, 746, 832]. Используя математические операции, посчитать коэффициенты линейной регрессии, приняв за X заработную плату (то есть, zp - признак), а за y - значения скорингового балла (то есть, ks - целевая переменная). Произвести расчет как с использованием intercept, так и без."
   ]
  },
  {
   "cell_type": "code",
   "execution_count": 3,
   "metadata": {},
   "outputs": [],
   "source": [
    "# Произвести расчет с использованием intercept"
   ]
  },
  {
   "cell_type": "code",
   "execution_count": 4,
   "metadata": {},
   "outputs": [],
   "source": [
    "X = np.array([35, 45, 190, 200, 40, 70, 54, 150, 120, 110])"
   ]
  },
  {
   "cell_type": "code",
   "execution_count": 5,
   "metadata": {},
   "outputs": [],
   "source": [
    "y = np.array([401, 574, 874, 919, 459, 739, 653, 902, 746, 832])"
   ]
  },
  {
   "cell_type": "code",
   "execution_count": 6,
   "metadata": {
    "scrolled": false
   },
   "outputs": [
    {
     "data": {
      "text/plain": [
       "2.620538882402765"
      ]
     },
     "execution_count": 6,
     "metadata": {},
     "output_type": "execute_result"
    }
   ],
   "source": [
    "b = (np.mean(X*y)-np.mean(X)*np.mean(y))/(np.mean(X**2) - np.mean(X)**2)\n",
    "b"
   ]
  },
  {
   "cell_type": "code",
   "execution_count": 7,
   "metadata": {},
   "outputs": [
    {
     "data": {
      "text/plain": [
       "10"
      ]
     },
     "execution_count": 7,
     "metadata": {},
     "output_type": "execute_result"
    }
   ],
   "source": [
    "n = len(X)\n",
    "n"
   ]
  },
  {
   "cell_type": "code",
   "execution_count": 8,
   "metadata": {},
   "outputs": [
    {
     "data": {
      "text/plain": [
       "2.6205388824027653"
      ]
     },
     "execution_count": 8,
     "metadata": {},
     "output_type": "execute_result"
    }
   ],
   "source": [
    "b = (n*(np.sum(X*y)) - (np.sum(X) * np.sum(y)))/(n*(np.sum(X**2))-((np.sum(X)**2)))\n",
    "b"
   ]
  },
  {
   "cell_type": "code",
   "execution_count": 9,
   "metadata": {},
   "outputs": [
    {
     "data": {
      "text/plain": [
       "444.17735732435955"
      ]
     },
     "execution_count": 9,
     "metadata": {},
     "output_type": "execute_result"
    }
   ],
   "source": [
    "a = np.mean(y) - b*np.mean(X)\n",
    "a"
   ]
  },
  {
   "cell_type": "code",
   "execution_count": 10,
   "metadata": {
    "scrolled": true
   },
   "outputs": [
    {
     "data": {
      "text/plain": [
       "array([535.915, 562.125, 942.17 , 968.38 , 549.02 , 627.65 , 585.714,\n",
       "       837.33 , 758.7  , 732.49 ])"
      ]
     },
     "execution_count": 10,
     "metadata": {},
     "output_type": "execute_result"
    }
   ],
   "source": [
    "y_hat = 444.18 + 2.621*X\n",
    "y_hat"
   ]
  },
  {
   "cell_type": "code",
   "execution_count": 11,
   "metadata": {},
   "outputs": [
    {
     "data": {
      "text/plain": [
       "array([401, 574, 874, 919, 459, 739, 653, 902, 746, 832])"
      ]
     },
     "execution_count": 11,
     "metadata": {},
     "output_type": "execute_result"
    }
   ],
   "source": [
    "y"
   ]
  },
  {
   "cell_type": "code",
   "execution_count": 12,
   "metadata": {
    "scrolled": true
   },
   "outputs": [
    {
     "data": {
      "text/plain": [
       "6470.417384600003"
      ]
     },
     "execution_count": 12,
     "metadata": {},
     "output_type": "execute_result"
    }
   ],
   "source": [
    "mse=((y-y_hat)**2).sum()/n\n",
    "mse"
   ]
  },
  {
   "cell_type": "code",
   "execution_count": 13,
   "metadata": {},
   "outputs": [
    {
     "data": {
      "image/png": "[encoded data removed]",
      "text/plain": [
       "<Figure size 432x288 with 1 Axes>"
      ]
     },
     "metadata": {
      "needs_background": "light"
     },
     "output_type": "display_data"
    }
   ],
   "source": [
    "import matplotlib.pyplot as plt \n",
    "%matplotlib inline\n",
    "plt.scatter(X,y) \n",
    "plt.plot(X,444.18 + 2.621*X)\n",
    "plt.show()"
   ]
  },
  {
   "cell_type": "code",
   "execution_count": 14,
   "metadata": {},
   "outputs": [],
   "source": [
    "# Произвести расчет без использования intercept"
   ]
  },
  {
   "cell_type": "code",
   "execution_count": 15,
   "metadata": {},
   "outputs": [],
   "source": [
    "import seaborn as sns"
   ]
  },
  {
   "cell_type": "code",
   "execution_count": 16,
   "metadata": {},
   "outputs": [
    {
     "data": {
      "text/plain": [
       "10"
      ]
     },
     "execution_count": 16,
     "metadata": {},
     "output_type": "execute_result"
    }
   ],
   "source": [
    "len(X)"
   ]
  },
  {
   "cell_type": "code",
   "execution_count": 17,
   "metadata": {},
   "outputs": [
    {
     "data": {
      "text/plain": [
       "array([[ 35],\n",
       "       [ 45],\n",
       "       [190],\n",
       "       [200],\n",
       "       [ 40],\n",
       "       [ 70],\n",
       "       [ 54],\n",
       "       [150],\n",
       "       [120],\n",
       "       [110]])"
      ]
     },
     "execution_count": 17,
     "metadata": {},
     "output_type": "execute_result"
    }
   ],
   "source": [
    "X = X.reshape((len(X),1))\n",
    "X"
   ]
  },
  {
   "cell_type": "code",
   "execution_count": 18,
   "metadata": {},
   "outputs": [
    {
     "data": {
      "text/plain": [
       "array([[401],\n",
       "       [574],\n",
       "       [874],\n",
       "       [919],\n",
       "       [459],\n",
       "       [739],\n",
       "       [653],\n",
       "       [902],\n",
       "       [746],\n",
       "       [832]])"
      ]
     },
     "execution_count": 18,
     "metadata": {},
     "output_type": "execute_result"
    }
   ],
   "source": [
    "y = y.reshape((len(X),1))\n",
    "y"
   ]
  },
  {
   "cell_type": "code",
   "execution_count": 19,
   "metadata": {},
   "outputs": [
    {
     "data": {
      "text/plain": [
       "array([[5.88982042]])"
      ]
     },
     "execution_count": 19,
     "metadata": {},
     "output_type": "execute_result"
    }
   ],
   "source": [
    "B = np.dot(np.linalg.inv(np.dot(X.T,X)),X.T@y)\n",
    "B"
   ]
  },
  {
   "cell_type": "code",
   "execution_count": 20,
   "metadata": {},
   "outputs": [
    {
     "data": {
      "text/plain": [
       "array([[ 206.1437147 ],\n",
       "       [ 265.04191891],\n",
       "       [1119.06587983],\n",
       "       [1177.96408403],\n",
       "       [ 235.59281681],\n",
       "       [ 412.28742941],\n",
       "       [ 318.05030269],\n",
       "       [ 883.47306302],\n",
       "       [ 706.77845042],\n",
       "       [ 647.88024621]])"
      ]
     },
     "execution_count": 20,
     "metadata": {},
     "output_type": "execute_result"
    }
   ],
   "source": [
    "y_hat = B*X\n",
    "y_hat"
   ]
  },
  {
   "cell_type": "code",
   "execution_count": 21,
   "metadata": {},
   "outputs": [
    {
     "data": {
      "text/plain": [
       "56516.8584157194"
      ]
     },
     "execution_count": 21,
     "metadata": {},
     "output_type": "execute_result"
    }
   ],
   "source": [
    "mse=((y-y_hat)**2).sum()/n\n",
    "mse"
   ]
  },
  {
   "cell_type": "code",
   "execution_count": 22,
   "metadata": {},
   "outputs": [
    {
     "data": {
      "image/png": "[encoded data removed]",
      "text/plain": [
       "<Figure size 432x288 with 1 Axes>"
      ]
     },
     "metadata": {
      "needs_background": "light"
     },
     "output_type": "display_data"
    }
   ],
   "source": [
    "%matplotlib inline\n",
    "plt.scatter(X,y) \n",
    "plt.plot(X,5.88982*X)\n",
    "plt.show()"
   ]
  },
  {
   "cell_type": "markdown",
   "metadata": {},
   "source": [
    "2.\tПосчитать коэффициент линейной регрессии при заработной плате (zp), используя градиентный спуск (без intercept)."
   ]
  },
  {
   "cell_type": "code",
   "execution_count": 23,
   "metadata": {},
   "outputs": [],
   "source": [
    "X = np.array([35, 45, 190, 200, 40, 70, 54, 150, 120, 110])"
   ]
  },
  {
   "cell_type": "code",
   "execution_count": 24,
   "metadata": {},
   "outputs": [],
   "source": [
    "y = np.array([401, 574, 874, 919, 459, 739, 653, 902, 746, 832])"
   ]
  },
  {
   "cell_type": "code",
   "execution_count": 25,
   "metadata": {},
   "outputs": [],
   "source": [
    "def mse_(B1,y=y,X=X,n=len(X)): \n",
    "    return np.sum((B1*X-y)**2)/n"
   ]
  },
  {
   "cell_type": "code",
   "execution_count": 26,
   "metadata": {},
   "outputs": [
    {
     "data": {
      "text/plain": [
       "1e-06"
      ]
     },
     "execution_count": 26,
     "metadata": {},
     "output_type": "execute_result"
    }
   ],
   "source": [
    "alpha = 1e-6\n",
    "alpha"
   ]
  },
  {
   "cell_type": "code",
   "execution_count": 27,
   "metadata": {},
   "outputs": [],
   "source": [
    "B1 = 0.1"
   ]
  },
  {
   "cell_type": "code",
   "execution_count": 28,
   "metadata": {},
   "outputs": [],
   "source": [
    "n = len(X)"
   ]
  },
  {
   "cell_type": "code",
   "execution_count": 29,
   "metadata": {},
   "outputs": [
    {
     "name": "stdout",
     "output_type": "stream",
     "text": [
      "Iteration: 0, B1=0.25952808, mse=493237.7212546963\n",
      "Iteration: 50, B1=4.497229618367758, mse=83233.94472982832\n",
      "Iteration: 100, B1=5.54537842245223, mse=58151.31823171113\n",
      "Iteration: 150, B1=5.804626485478126, mse=56616.849068093856\n",
      "Iteration: 200, B1=5.868748638669329, mse=56522.97550129376\n",
      "Iteration: 250, B1=5.884608547059329, mse=56517.232638059555\n",
      "Iteration: 300, B1=5.888531320728348, mse=56516.88130936019\n",
      "Iteration: 350, B1=5.889501575592372, mse=56516.85981627392\n",
      "Iteration: 400, B1=5.8897415574471985, mse=56516.85850140053\n",
      "Iteration: 450, B1=5.889800914315978, mse=56516.858420961085\n",
      "Iteration: 500, B1=5.889815595583751, mse=56516.858416040064\n",
      "Iteration: 550, B1=5.889819226833643, mse=56516.858415739014\n",
      "Iteration: 600, B1=5.889820124983314, mse=56516.85841572062\n",
      "Iteration: 650, B1=5.889820347130743, mse=56516.858415719485\n"
     ]
    }
   ],
   "source": [
    "for i in range (700):\n",
    "    B1 -= alpha*(2/n)*np.sum((B1*X-y)*X)\n",
    "    if i%50==0:\n",
    "        print('Iteration: {i}, B1={B1}, mse={mse}'.format(i=i, B1=B1, mse=mse_(B1)))"
   ]
  },
  {
   "cell_type": "code",
   "execution_count": 30,
   "metadata": {},
   "outputs": [
    {
     "data": {
      "text/plain": [
       "56516.858415720075"
      ]
     },
     "execution_count": 30,
     "metadata": {},
     "output_type": "execute_result"
    }
   ],
   "source": [
    "mse_(5.8898202)"
   ]
  },
  {
   "cell_type": "markdown",
   "metadata": {},
   "source": [
    "3.\tВ каких случаях для вычисления доверительных интервалов и проверки статистических гипотез используется таблица значений функции Лапласа, а в каких - таблица критических точек распределения Стьюдента?"
   ]
  },
  {
   "cell_type": "markdown",
   "metadata": {},
   "source": [
    "Для вычисления доверительных интервалов и проверки статистических гипотез используется таблица значений функции Лапласа, когда известна сигма - среднеквадрати́ческое отклоне́ние."
   ]
  },
  {
   "cell_type": "markdown",
   "metadata": {},
   "source": [
    "Для вычисления доверительных интервалов и проверки статистических гипотез используется таблица критических точек распределения Стьюдента, когда неизвестна сигма - среднеквадрати́ческое отклоне́ние"
   ]
  },
  {
   "cell_type": "markdown",
   "metadata": {},
   "source": [
    "*4. Произвести вычисления как в пункте 2, но с вычислением intercept. Учесть, что изменение коэффициентов должно производиться на каждом шаге одновременно (то есть изменение одного коэффициента не должно влиять на изменение другого во время одной итерации)."
   ]
  },
  {
   "cell_type": "code",
   "execution_count": 31,
   "metadata": {},
   "outputs": [],
   "source": [
    "X = np.array([35, 45, 190, 200, 40, 70, 54, 150, 120, 110])"
   ]
  },
  {
   "cell_type": "code",
   "execution_count": 32,
   "metadata": {},
   "outputs": [],
   "source": [
    "y = np.array([401, 574, 874, 919, 459, 739, 653, 902, 746, 832])"
   ]
  },
  {
   "cell_type": "code",
   "execution_count": 33,
   "metadata": {},
   "outputs": [],
   "source": [
    "def mse_(A1,B1,y=y,X=X,n=len(X)): \n",
    "    return np.sum(((A1+B1*X)-y)**2)/n"
   ]
  },
  {
   "cell_type": "code",
   "execution_count": 34,
   "metadata": {},
   "outputs": [
    {
     "data": {
      "text/plain": [
       "5e-05"
      ]
     },
     "execution_count": 34,
     "metadata": {},
     "output_type": "execute_result"
    }
   ],
   "source": [
    "alpha = 5e-5\n",
    "alpha"
   ]
  },
  {
   "cell_type": "code",
   "execution_count": 35,
   "metadata": {},
   "outputs": [],
   "source": [
    "B1 = 0.1"
   ]
  },
  {
   "cell_type": "code",
   "execution_count": 36,
   "metadata": {},
   "outputs": [],
   "source": [
    "A1 = 500"
   ]
  },
  {
   "cell_type": "code",
   "execution_count": 37,
   "metadata": {},
   "outputs": [],
   "source": [
    "n = len(X)"
   ]
  },
  {
   "cell_type": "code",
   "execution_count": 38,
   "metadata": {
    "scrolled": true
   },
   "outputs": [
    {
     "name": "stdout",
     "output_type": "stream",
     "text": [
      "Iteration: 0, A1=500.019976, B1=3.00620144336 mse=16005.466685508876\n",
      "Iteration: 1000, A1=498.61549705893424, B1=2.2198602691977465 mse=7222.1529672268925\n",
      "Iteration: 2000, A1=497.25191504810823, B1=2.2298965810877736 mse=7184.965087635523\n",
      "Iteration: 3000, A1=495.92248842740577, B1=2.239681500582416 mse=7149.616860927507\n",
      "Iteration: 4000, A1=494.6263616628982, B1=2.249221324629911 mse=7116.017281033979\n",
      "Iteration: 5000, A1=493.3627006503157, B1=2.2585221924507346 mse=7084.079843879192\n",
      "Iteration: 6000, A1=492.130692178268, B1=2.267590089488432 mse=7053.722324670666\n",
      "Iteration: 7000, A1=490.9295434049141, B1=2.276430851261463 mse=7024.8665662067015\n",
      "Iteration: 8000, A1=489.7584813477422, B1=2.2850501671185524 mse=6997.438277656132\n",
      "Iteration: 9000, A1=488.6167523861253, B1=2.2934535839000065 mse=6971.366843292238\n",
      "Iteration: 10000, A1=487.5036217763426, B1=2.301646509507281 mse=6946.585140688496\n",
      "Iteration: 11000, A1=486.41837317874126, B1=2.309634216383191 mse=6923.029367907872\n",
      "Iteration: 12000, A1=485.36030819674767, B1=2.317421844904904 mse=6900.638879241099\n",
      "Iteration: 13000, A1=484.32874592742536, B1=2.3250144066919516 mse=6879.356029070754\n",
      "Iteration: 14000, A1=483.3230225232877, B1=2.3324167878313973 mse=6859.126023459236\n",
      "Iteration: 15000, A1=482.342490765088, B1=2.339633752022211 mse=6839.896779078597\n",
      "Iteration: 16000, A1=481.3865196453127, B1=2.3466699436408662 mse=6821.618789118975\n",
      "Iteration: 17000, A1=480.45449396210375, B1=2.353529890730176 mse=6804.244995830444\n",
      "Iteration: 18000, A1=479.54581392335336, B1=2.3602180079132533 mse=6787.730669370061\n",
      "Iteration: 19000, A1=478.6598947607181, B1=2.3667385992344703 mse=6772.03329264232\n",
      "Iteration: 20000, A1=477.796166353298, B1=2.3730958609292716 mse=6757.112451836382\n",
      "Iteration: 21000, A1=476.95407286074413, B1=2.3792938841246007 mse=6742.929732378399\n",
      "Iteration: 22000, A1=476.13307236555283, B1=2.3853366574717025 mse=6729.4486200308775\n",
      "Iteration: 23000, A1=475.33263652432674, B1=2.391228069712932 mse=6716.634406884761\n",
      "Iteration: 24000, A1=474.5522502277614, B1=2.396971912184342 mse=6704.454102001783\n",
      "Iteration: 25000, A1=473.79141126916124, B1=2.402571881255487 mse=6692.876346477511\n",
      "Iteration: 26000, A1=473.04963002124083, B1=2.4080315807082484 mse=6681.871332705834\n",
      "Iteration: 27000, A1=472.3264291210429, B1=2.4133545240559235 mse=6671.410727637713\n",
      "Iteration: 28000, A1=471.6213431627321, B1=2.418544136804334 mse=6661.4675998360235\n",
      "Iteration: 29000, A1=470.9339183980898, B1=2.423603758656267 mse=6652.016350139003\n",
      "Iteration: 30000, A1=470.26371244451457, B1=2.428536645660665 mse=6643.032645753736\n",
      "Iteration: 31000, A1=469.61029400032635, B1=2.433345972308057 mse=6634.4933576099165\n",
      "Iteration: 32000, A1=468.97324256721544, B1=2.438034833573407 mse=6626.376500812776\n",
      "Iteration: 33000, A1=468.35214817963134, B1=2.442606246907881 mse=6618.661178041625\n",
      "Iteration: 34000, A1=467.74661114095926, B1=2.4470631541806567 mse=6611.327525748561\n",
      "Iteration: 35000, A1=467.15624176629615, B1=2.4514084235721545 mse=6604.356663018499\n",
      "Iteration: 36000, A1=466.5806601316799, B1=2.455644851419777 mse=6597.730642959269\n",
      "Iteration: 37000, A1=466.0194958295924, B1=2.459775164017468 mse=6591.4324064962475\n",
      "Iteration: 38000, A1=465.472387730585, B1=2.4638020193702106 mse=6585.445738452727\n",
      "Iteration: 39000, A1=464.93898375088474, B1=2.4677280089045035 mse=6579.755225803095\n",
      "Iteration: 40000, A1=464.4189406258114, B1=2.4715556591360723 mse=6574.346217991011\n",
      "Iteration: 41000, A1=463.91192368887954, B1=2.4752874332957298 mse=6569.204789210789\n",
      "Iteration: 42000, A1=463.4176066564222, B1=2.4789257329146057 mse=6564.31770255451\n",
      "Iteration: 43000, A1=462.93567141761787, B1=2.4824728993695997 mse=6559.672375932865\n",
      "Iteration: 44000, A1=462.4658078297787, B1=2.485931215390111 mse=6555.256849681881\n",
      "Iteration: 45000, A1=462.0077135187562, B1=2.489302906527107 mse=6551.059755771983\n",
      "Iteration: 46000, A1=461.56109368435636, B1=2.492590142585314 mse=6547.070288540397\n",
      "Iteration: 47000, A1=461.12566091062524, B1=2.495795039019565 mse=6543.278176871342\n",
      "Iteration: 48000, A1=460.70113498088267, B1=2.4989196582962006 mse=6539.673657752384\n",
      "Iteration: 49000, A1=460.28724269739985, B1=2.501966011220285 mse=6536.247451139109\n",
      "Iteration: 50000, A1=459.8837177055789, B1=2.5049360582296925 mse=6532.9907360629695\n",
      "Iteration: 51000, A1=459.490300322549, B1=2.5078317106566814 mse=6529.895127921298\n",
      "Iteration: 52000, A1=459.1067373700507, B1=2.5106548319579076 mse=6526.952656890596\n",
      "Iteration: 53000, A1=458.73278201150345, B1=2.513407238913654 mse=6524.155747407769\n",
      "Iteration: 54000, A1=458.36819359316183, B1=2.5160907027969523 mse=6521.497198666437\n",
      "Iteration: 55000, A1=458.01273748924206, B1=2.518706950513504 mse=6518.970166077978\n",
      "Iteration: 56000, A1=457.6661849509345, B1=2.5212576657129713 mse=6516.568143649792\n",
      "Iteration: 57000, A1=457.3283129591954, B1=2.523744489872484 mse=6514.284947235205\n",
      "Iteration: 58000, A1=456.99890408122445, B1=2.526169023352988 mse=6512.114698612031\n",
      "Iteration: 59000, A1=456.67774633054, B1=2.5285328264291342 mse=6510.0518103487675\n",
      "Iteration: 60000, A1=456.3646330305582, B1=2.5308374202933708 mse=6508.090971419404\n",
      "Iteration: 61000, A1=456.0593626815894, B1=2.533084288034881 mse=6506.227133529891\n",
      "Iteration: 62000, A1=455.7617388311663, B1=2.5352748755940016 mse=6504.455498121003\n",
      "Iteration: 63000, A1=455.4715699476165, B1=2.537410592692765 mse=6502.77150401417\n",
      "Iteration: 64000, A1=455.18866929681224, B1=2.5394928137420467 mse=6501.1708156684745\n",
      "Iteration: 65000, A1=454.91285482198856, B1=2.5415228787261372 mse=6499.6493120185205\n",
      "Iteration: 66000, A1=454.64394902659626, B1=2.5435020940649777 mse=6498.203075864512\n",
      "Iteration: 67000, A1=454.38177886006577, B1=2.5454317334549597 mse=6496.828383787239\n",
      "Iteration: 68000, A1=454.1261756064499, B1=2.5473130386885483 mse=6495.521696561855\n",
      "Iteration: 69000, A1=453.87697477584516, B1=2.549147220453448 mse=6494.279650045975\n",
      "Iteration: 70000, A1=453.6340159985396, B1=2.550935459111702 mse=6493.099046518493\n",
      "Iteration: 71000, A1=453.39714292180514, B1=2.5526789054593237 mse=6491.9768464468425\n",
      "Iteration: 72000, A1=453.1662031092838, B1=2.554378681466844 mse=6490.910160661582\n",
      "Iteration: 73000, A1=452.94104794288455, B1=2.556035881001374 mse=6489.896242918005\n",
      "Iteration: 74000, A1=452.72153252714537, B1=2.5576515705305227 mse=6488.932482825812\n",
      "Iteration: 75000, A1=452.5075155959889, B1=2.5592267898087036 mse=6488.016399128511\n",
      "Iteration: 76000, A1=452.2988594218077, B1=2.5607625525462843 mse=6487.14563331525\n",
      "Iteration: 77000, A1=452.0954297268369, B1=2.562259847061913 mse=6486.317943548725\n",
      "Iteration: 78000, A1=451.89709559673884, B1=2.5637196369185538 mse=6485.531198893406\n",
      "Iteration: 79000, A1=451.70372939635337, B1=2.5651428615435856 mse=6484.78337382935\n",
      "Iteration: 80000, A1=451.5152066875651, B1=2.566530436833322 mse=6484.0725430373695\n",
      "Iteration: 81000, A1=451.33140614921825, B1=2.5678832557424585 mse=6483.396876442169\n",
      "Iteration: 82000, A1=451.152209499044, B1=2.5692021888587058 mse=6482.754634500755\n",
      "Iteration: 83000, A1=450.97750141754125, B1=2.5704880849630465 mse=6482.144163723815\n",
      "Iteration: 84000, A1=450.80716947376527, B1=2.571741771575951 mse=6481.563892418785\n",
      "Iteration: 85000, A1=450.64110405297464, B1=2.572964055489915 mse=6481.01232664339\n",
      "Iteration: 86000, A1=450.47919828608747, B1=2.5741557232886776 mse=6480.488046359401\n",
      "Iteration: 87000, A1=450.3213479809073, B1=2.575317541853418 mse=6479.989701776683\n",
      "Iteration: 88000, A1=450.1674515550785, B1=2.576450258856221 mse=6479.516009878087\n",
      "Iteration: 89000, A1=450.0174099707049, B1=2.577554603241298 mse=6479.065751116218\n",
      "Iteration: 90000, A1=449.87112667062064, B1=2.5786312856940525 mse=6478.637766273668\n",
      "Iteration: 91000, A1=449.72850751625145, B1=2.579680999098436 mse=6478.230953478514\n",
      "Iteration: 92000, A1=449.5894607270344, B1=2.580704418982836 mse=6477.844265367532\n",
      "Iteration: 93000, A1=449.4538968213499, B1=2.5817022039548276 mse=6477.476706389646\n",
      "Iteration: 94000, A1=449.32172855894066, B1=2.582674996124987 mse=6477.127330242858\n",
      "Iteration: 95000, A1=449.1928708847683, B1=2.5836234215201226 mse=6476.795237437922\n",
      "Iteration: 96000, A1=449.06724087427676, B1=2.5845480904861473 mse=6476.479572982574\n",
      "Iteration: 97000, A1=448.9447576800271, B1=2.5854495980808623 mse=6476.179524180274\n"
     ]
    },
    {
     "name": "stdout",
     "output_type": "stream",
     "text": [
      "Iteration: 98000, A1=448.82534247967055, B1=2.586328524456888 mse=6475.894318537905\n",
      "Iteration: 99000, A1=448.70891842522485, B1=2.587185435235001 mse=6475.623221776928\n",
      "Iteration: 100000, A1=448.5954105936165, B1=2.588020881868161 mse=6475.365535942937\n",
      "Iteration: 101000, A1=448.484745938465, B1=2.5888354019963855 mse=6475.120597608747\n",
      "Iteration: 102000, A1=448.37685324307705, B1=2.5896295197927284 mse=6474.887776166333\n",
      "Iteration: 103000, A1=448.2716630746182, B1=2.5904037463005842 mse=6474.66647220335\n",
      "Iteration: 104000, A1=448.16910773942345, B1=2.5911585797626198 mse=6474.456115959833\n",
      "Iteration: 105000, A1=448.06912123943965, B1=2.591894505941363 mse=6474.25616586139\n",
      "Iteration: 106000, A1=447.9716392297518, B1=2.5926119984318223 mse=6474.066107124841\n",
      "Iteration: 107000, A1=447.87659897717526, B1=2.593311518966262 mse=6473.885450432904\n",
      "Iteration: 108000, A1=447.7839393198815, B1=2.5939935177113616 mse=6473.713730674387\n",
      "Iteration: 109000, A1=447.69360062804407, B1=2.5946584335578735 mse=6473.550505746778\n",
      "Iteration: 110000, A1=447.60552476546025, B1=2.5953066944031002 mse=6473.395355417991\n",
      "Iteration: 111000, A1=447.5196550521384, B1=2.5959387174262587 mse=6473.247880244466\n",
      "Iteration: 112000, A1=447.4359362278241, B1=2.5965549093569336 mse=6473.107700542774\n",
      "Iteration: 113000, A1=447.35431441643794, B1=2.597155666736832 mse=6472.974455412106\n",
      "Iteration: 114000, A1=447.27473709140327, B1=2.597741376174974 mse=6472.847801805122\n",
      "Iteration: 115000, A1=447.1971530418447, B1=2.5983124145964838 mse=6472.727413644719\n",
      "Iteration: 116000, A1=447.121512339631, B1=2.598869149485159 mse=6472.612980984579\n",
      "Iteration: 117000, A1=447.04776630724473, B1=2.5994119391199626 mse=6472.504209211142\n",
      "Iteration: 118000, A1=446.9758674864568, B1=2.5999411328055815 mse=6472.400818285142\n",
      "Iteration: 119000, A1=446.90576960778526, B1=2.6004570710972215 mse=6472.3025420206195\n",
      "Iteration: 120000, A1=446.837427560722, B1=2.6009600860197457 mse=6472.209127399603\n",
      "Iteration: 121000, A1=446.77079736469494, B1=2.601450501281396 mse=6472.120333920714\n",
      "Iteration: 122000, A1=446.7058361407735, B1=2.601928632482055 mse=6472.035932979959\n",
      "Iteration: 123000, A1=446.6425020840695, B1=2.6023947873163773 mse=6471.955707282215\n",
      "Iteration: 124000, A1=446.58075443683475, B1=2.6028492657718014 mse=6471.879450281732\n",
      "Iteration: 125000, A1=446.52055346223426, B1=2.6032923603215803 mse=6471.806965650436\n",
      "Iteration: 126000, A1=446.461860418772, B1=2.6037243561130214 mse=6471.738066772408\n",
      "Iteration: 127000, A1=446.4046375353595, B1=2.6041455311509845 mse=6471.67257626348\n",
      "Iteration: 128000, A1=446.34884798700887, B1=2.604556156476784 mse=6471.610325514519\n",
      "Iteration: 129000, A1=446.2944558711383, B1=2.6049564963425946 mse=6471.551154257346\n",
      "Iteration: 130000, A1=446.24142618445893, B1=2.605346808381562 mse=6471.494910152111\n",
      "Iteration: 131000, A1=446.18972480045767, B1=2.6057273437735398 mse=6471.441448395094\n",
      "Iteration: 132000, A1=446.13931844743144, B1=2.606098347406759 mse=6471.390631345881\n",
      "Iteration: 133000, A1=446.090174687076, B1=2.6064600580354274 mse=6471.34232817302\n",
      "Iteration: 134000, A1=446.04226189361, B1=2.6068127084333717 mse=6471.296414517182\n",
      "Iteration: 135000, A1=445.9955492334252, B1=2.607156525543824 mse=6471.25277217098\n",
      "Iteration: 136000, A1=445.9500066452412, B1=2.6074917306254872 mse=6471.2112887746525\n",
      "Iteration: 137000, A1=445.90560482076205, B1=2.6078185393949056 mse=6471.171857526783\n",
      "Iteration: 138000, A1=445.86231518581405, B1=2.6081371621652956 mse=6471.134376909325\n",
      "Iteration: 139000, A1=445.82010988195685, B1=2.608447803981895 mse=6471.098750426244\n",
      "Iteration: 140000, A1=445.77896174855795, B1=2.6087506647538943 mse=6471.064886355084\n",
      "Iteration: 141000, A1=445.73884430530995, B1=2.6090459393831216 mse=6471.03269751082\n",
      "Iteration: 142000, A1=445.6997317351938, B1=2.6093338178894308 mse=6471.002101021397\n",
      "Iteration: 143000, A1=445.66159886786113, B1=2.6096144855330143 mse=6470.973018114371\n",
      "Iteration: 144000, A1=445.6244211634383, B1=2.6098881229336106 mse=6470.945373914116\n",
      "Iteration: 145000, A1=445.5881746967313, B1=2.610154906186759 mse=6470.919097249011\n",
      "Iteration: 146000, A1=445.55283614183327, B1=2.6104150069770924 mse=6470.89412046825\n",
      "Iteration: 147000, A1=445.5183827571124, B1=2.610668592688828 mse=6470.870379267671\n",
      "Iteration: 148000, A1=445.4847923705729, B1=2.6109158265135197 mse=6470.847812524161\n",
      "Iteration: 149000, A1=445.45204336559107, B1=2.611156867555038 mse=6470.826362138321\n",
      "Iteration: 150000, A1=445.42011466700285, B1=2.611391870931975 mse=6470.805972884891\n",
      "Iteration: 151000, A1=445.3889857275395, B1=2.611620987877475 mse=6470.786592270548\n",
      "Iteration: 152000, A1=445.3586365146086, B1=2.611844365836537 mse=6470.768170398767\n",
      "Iteration: 153000, A1=445.3290474973959, B1=2.612062148560941 mse=6470.750659841369\n",
      "Iteration: 154000, A1=445.3001996343041, B1=2.6122744762017076 mse=6470.734015516407\n",
      "Iteration: 155000, A1=445.27207436069483, B1=2.612481485399316 mse=6470.718194572089\n",
      "Iteration: 156000, A1=445.2446535769405, B1=2.61268330937165 mse=6470.703156276476\n",
      "Iteration: 157000, A1=445.2179196367786, B1=2.612880077999707 mse=6470.688861912608\n",
      "Iteration: 158000, A1=445.19185533595356, B1=2.613071917911204 mse=6470.675274678796\n",
      "Iteration: 159000, A1=445.1664439011511, B1=2.6132589525620173 mse=6470.662359593931\n",
      "Iteration: 160000, A1=445.1416689791968, B1=2.6134413023156884 mse=6470.650083407364\n",
      "Iteration: 161000, A1=445.1175146265359, B1=2.6136190845208525 mse=6470.638414513343\n",
      "Iteration: 162000, A1=445.09396529897197, B1=2.6137924135867654 mse=6470.6273228696145\n",
      "Iteration: 163000, A1=445.0710058416649, B1=2.6139614010569217 mse=6470.6167799201085\n",
      "Iteration: 164000, A1=445.0486214793743, B1=2.614126155680864 mse=6470.60675852137\n",
      "Iteration: 165000, A1=445.02679780695877, B1=2.614286783484112 mse=6470.597232872735\n",
      "Iteration: 166000, A1=445.005520780099, B1=2.614443387836444 mse=6470.588178449872\n",
      "Iteration: 167000, A1=444.98477670626073, B1=2.6145960695184094 mse=6470.579571941623\n",
      "Iteration: 168000, A1=444.96455223588544, B1=2.6147449267861687 mse=6470.571391190041\n",
      "Iteration: 169000, A1=444.94483435379857, B1=2.6148900554347305 mse=6470.563615133316\n",
      "Iteration: 170000, A1=444.9256103708305, B1=2.615031548859625 mse=6470.5562237515205\n",
      "Iteration: 171000, A1=444.90686791565696, B1=2.6151694981169578 mse=6470.549198015118\n",
      "Iteration: 172000, A1=444.8885949268324, B1=2.61530399198205 mse=6470.542519835944\n",
      "Iteration: 173000, A1=444.8707796450301, B1=2.61543511700655 mse=6470.536172020632\n",
      "Iteration: 174000, A1=444.8534106054742, B1=2.6155629575741353 mse=6470.530138226361\n",
      "Iteration: 175000, A1=444.8364766305634, B1=2.6156875959548067 mse=6470.524402918776\n",
      "Iteration: 176000, A1=444.81996682267294, B1=2.615809112357867 mse=6470.518951332002\n",
      "Iteration: 177000, A1=444.80387055714726, B1=2.615927584983494 mse=6470.513769430605\n",
      "Iteration: 178000, A1=444.78817747545895, B1=2.616043090073096 mse=6470.50884387347\n",
      "Iteration: 179000, A1=444.77287747854604, B1=2.616155701958348 mse=6470.50416197948\n",
      "Iteration: 180000, A1=444.75796072030886, B1=2.616265493109058 mse=6470.499711694811\n",
      "Iteration: 181000, A1=444.743417601275, B1=2.6163725341797957 mse=6470.495481561955\n",
      "Iteration: 182000, A1=444.7292387624236, B1=2.616476894055345 mse=6470.491460690187\n",
      "Iteration: 183000, A1=444.7154150791618, B1=2.61657863989504 mse=6470.487638727539\n",
      "Iteration: 184000, A1=444.7019376554514, B1=2.616677837175994 mse=6470.484005834138\n",
      "Iteration: 185000, A1=444.6887978180828, B1=2.6167745497352453 mse=6470.480552656901\n",
      "Iteration: 186000, A1=444.6759871110992, B1=2.616868839810795 mse=6470.4772703054105\n",
      "Iteration: 187000, A1=444.6634972903496, B1=2.6169607680817 mse=6470.4741503290725\n",
      "Iteration: 188000, A1=444.6513203181833, B1=2.6170503937071246 mse=6470.4711846953105\n",
      "Iteration: 189000, A1=444.6394483582781, B1=2.6171377743643993 mse=6470.468365768947\n",
      "Iteration: 190000, A1=444.6278737706039, B1=2.617222966286099 mse=6470.465686292472\n",
      "Iteration: 191000, A1=444.6165891064938, B1=2.6173060242963135 mse=6470.46313936743\n",
      "Iteration: 192000, A1=444.605587103861, B1=2.617387001845856 mse=6470.460718436617\n",
      "Iteration: 193000, A1=444.59486068251886, B1=2.6174659510467104 mse=6470.458417267189\n"
     ]
    },
    {
     "name": "stdout",
     "output_type": "stream",
     "text": [
      "Iteration: 194000, A1=444.58440293963, B1=2.617542922705521 mse=6470.45622993467\n",
      "Iteration: 195000, A1=444.574207145261, B1=2.6176179663563186 mse=6470.4541508076345\n",
      "Iteration: 196000, A1=444.5642667380499, B1=2.6176911302924015 mse=6470.452174533253\n",
      "Iteration: 197000, A1=444.5545753209859, B1=2.6177624615974047 mse=6470.450296023486\n",
      "Iteration: 198000, A1=444.54512665729396, B1=2.617832006175584 mse=6470.448510442006\n",
      "Iteration: 199000, A1=444.53591466641785, B1=2.617899808781388 mse=6470.446813191728\n",
      "Iteration: 200000, A1=444.5269334201095, B1=2.617965913048235 mse=6470.445199902983\n",
      "Iteration: 201000, A1=444.5181771386145, B1=2.618030361516595 mse=6470.4436664222685\n",
      "Iteration: 202000, A1=444.50964018694975, B1=2.618093195661382 mse=6470.442208801546\n",
      "Iteration: 203000, A1=444.50131707127906, B1=2.6181544559186345 mse=6470.4408232880805\n",
      "Iteration: 204000, A1=444.49320243537676, B1=2.618214181711541 mse=6470.439506314791\n",
      "Iteration: 205000, A1=444.4852910571832, B1=2.618272411475794 mse=6470.438254491055\n",
      "Iteration: 206000, A1=444.4775778454407, B1=2.6183291826843513 mse=6470.437064593979\n",
      "Iteration: 207000, A1=444.4700578364206, B1=2.6183845318715235 mse=6470.435933560103\n",
      "Iteration: 208000, A1=444.4627261907261, B1=2.6184384946565067 mse=6470.434858477513\n",
      "Iteration: 209000, A1=444.45557819017927, B1=2.618491105766296 mse=6470.43383657835\n",
      "Iteration: 210000, A1=444.4486092347829, B1=2.618542399058045 mse=6470.432865231673\n",
      "Iteration: 211000, A1=444.4418148397635, B1=2.6185924075408336 mse=6470.431941936689\n",
      "Iteration: 212000, A1=444.43519063268315, B1=2.61864116339692 mse=6470.431064316329\n",
      "Iteration: 213000, A1=444.42873235062643, B1=2.6186886980024524 mse=6470.4302301111\n",
      "Iteration: 214000, A1=444.42243583745596, B1=2.618735041947662 mse=6470.4294371732985\n",
      "Iteration: 215000, A1=444.41629704114, B1=2.6187802250565375 mse=6470.4286834614595\n",
      "Iteration: 216000, A1=444.4103120111397, B1=2.6188242764060554 mse=6470.42796703511\n",
      "Iteration: 217000, A1=444.4044768958739, B1=2.618867224344834 mse=6470.427286049757\n",
      "Iteration: 218000, A1=444.39878794023497, B1=2.6189090965114277 mse=6470.426638752171\n",
      "Iteration: 219000, A1=444.3932414831756, B1=2.618949919852078 mse=6470.426023475859\n",
      "Iteration: 220000, A1=444.38783395534995, B1=2.618989720638082 mse=6470.425438636735\n",
      "Iteration: 221000, A1=444.3825618768201, B1=2.619028524482673 mse=6470.424882729108\n",
      "Iteration: 222000, A1=444.37742185481267, B1=2.6190663563575276 mse=6470.424354321764\n",
      "Iteration: 223000, A1=444.3724105815391, B1=2.619103240608816 mse=6470.4238520542785\n",
      "Iteration: 224000, A1=444.3675248320643, B1=2.6191392009728838 mse=6470.423374633547\n",
      "Iteration: 225000, A1=444.3627614622328, B1=2.6191742605915183 mse=6470.422920830407\n",
      "Iteration: 226000, A1=444.3581174066431, B1=2.6192084420268578 mse=6470.422489476528\n",
      "Iteration: 227000, A1=444.3535896766787, B1=2.6192417672758825 mse=6470.4220794613575\n",
      "Iteration: 228000, A1=444.3491753585833, B1=2.6192742577845833 mse=6470.421689729292\n",
      "Iteration: 229000, A1=444.34487161158273, B1=2.619305934461784 mse=6470.42131927694\n",
      "Iteration: 230000, A1=444.340675666062, B1=2.619336817692558 mse=6470.420967150557\n",
      "Iteration: 231000, A1=444.3365848217777, B1=2.6193669273513867 mse=6470.42063244356\n",
      "Iteration: 232000, A1=444.3325964461252, B1=2.6193962828149124 mse=6470.420314294237\n",
      "Iteration: 233000, A1=444.32870797244027, B1=2.619424902974439 mse=6470.420011883493\n",
      "Iteration: 234000, A1=444.32491689835, B1=2.6194528062480713 mse=6470.419724432751\n",
      "Iteration: 235000, A1=444.32122078416285, B1=2.619480010592562 mse=6470.419451201953\n",
      "Iteration: 236000, A1=444.31761725129513, B1=2.619506533514894 mse=6470.419191487649\n",
      "Iteration: 237000, A1=444.3141039807425, B1=2.619532392083532 mse=6470.418944621194\n",
      "Iteration: 238000, A1=444.31067871159183, B1=2.6195576029393735 mse=6470.418709967018\n",
      "Iteration: 239000, A1=444.30733923955796, B1=2.6195821823065217 mse=6470.418486920977\n",
      "Iteration: 240000, A1=444.3040834155691, B1=2.6196061460026923 mse=6470.418274908838\n",
      "Iteration: 241000, A1=444.3009091443841, B1=2.6196295094493953 mse=6470.418073384762\n",
      "Iteration: 242000, A1=444.2978143832481, B1=2.61965228768183 mse=6470.417881829909\n",
      "Iteration: 243000, A1=444.29479714056873, B1=2.6196744953586237 mse=6470.417699751111\n",
      "Iteration: 244000, A1=444.2918554746425, B1=2.61969614677121 mse=6470.417526679598\n",
      "Iteration: 245000, A1=444.2889874924016, B1=2.619717255853052 mse=6470.417362169784\n",
      "Iteration: 246000, A1=444.28619134819456, B1=2.619737836188616 mse=6470.417205798134\n",
      "Iteration: 247000, A1=444.2834652426042, B1=2.6197579010220715 mse=6470.417057162059\n",
      "Iteration: 248000, A1=444.28080742128105, B1=2.619777463265879 mse=6470.416915878885\n",
      "Iteration: 249000, A1=444.27821617382347, B1=2.619796535509031 mse=6470.416781584861\n",
      "Iteration: 250000, A1=444.27568983266906, B1=2.619815130025213 mse=6470.416653934257\n",
      "Iteration: 251000, A1=444.27322677202665, B1=2.619833258780664 mse=6470.4165325984195\n",
      "Iteration: 252000, A1=444.2708254068279, B1=2.619850933441891 mse=6470.416417264956\n",
      "Iteration: 253000, A1=444.2684841917083, B1=2.619868165383172 mse=6470.416307636949\n",
      "Iteration: 254000, A1=444.2662016200108, B1=2.6198849656938865 mse=6470.416203432145\n",
      "Iteration: 255000, A1=444.2639762228193, B1=2.6199013451856343 mse=6470.4161043822605\n",
      "Iteration: 256000, A1=444.26180656800807, B1=2.6199173143992245 mse=6470.416010232293\n",
      "Iteration: 257000, A1=444.2596912593284, B1=2.619932883611406 mse=6470.415920739846\n",
      "Iteration: 258000, A1=444.2576289355028, B1=2.619948062841527 mse=6470.415835674512\n",
      "Iteration: 259000, A1=444.25561826935, B1=2.6199628618579824 mse=6470.415754817284\n",
      "Iteration: 260000, A1=444.25365796693603, B1=2.619977290184456 mse=6470.415677960006\n",
      "Iteration: 261000, A1=444.2517467667345, B1=2.6199913571061035 mse=6470.415604904783\n",
      "Iteration: 262000, A1=444.24988343881967, B1=2.620005071675494 mse=6470.415535463541\n",
      "Iteration: 263000, A1=444.2480667840721, B1=2.6200184427184516 mse=6470.415469457506\n",
      "Iteration: 264000, A1=444.24629563340955, B1=2.6200314788397208 mse=6470.415406716724\n",
      "Iteration: 265000, A1=444.24456884703255, B1=2.6200441884285164 mse=6470.415347079678\n",
      "Iteration: 266000, A1=444.24288531369206, B1=2.620056579663916 mse=6470.415290392828\n",
      "Iteration: 267000, A1=444.2412439499741, B1=2.6200686605201224 mse=6470.4152365102245\n",
      "Iteration: 268000, A1=444.2396436996011, B1=2.6200804387716086 mse=6470.415185293152\n",
      "Iteration: 269000, A1=444.23808353275507, B1=2.6200919219980983 mse=6470.415136609744\n",
      "Iteration: 270000, A1=444.2365624454119, B1=2.6201031175894647 mse=6470.415090334662\n",
      "Iteration: 271000, A1=444.2350794586975, B1=2.6201140327504717 mse=6470.4150463487695\n",
      "Iteration: 272000, A1=444.23363361825614, B1=2.620124674505421 mse=6470.415004538819\n",
      "Iteration: 273000, A1=444.2322239936363, B1=2.620135049702674 mse=6470.414964797179\n",
      "Iteration: 274000, A1=444.2308496776956, B1=2.62014516501903 mse=6470.414927021521\n",
      "Iteration: 275000, A1=444.22950978601017, B1=2.620155026964073 mse=6470.41489111458\n",
      "Iteration: 276000, A1=444.2282034563149, B1=2.620164641884297 mse=6470.4148569839435\n",
      "Iteration: 277000, A1=444.22692984793684, B1=2.620174015967269 mse=6470.414824541713\n",
      "Iteration: 278000, A1=444.22568814126384, B1=2.620183155245543 mse=6470.414793704369\n",
      "Iteration: 279000, A1=444.2244775372117, B1=2.6201920656005826 mse=6470.414764392524\n",
      "Iteration: 280000, A1=444.22329725671545, B1=2.620200752766506 mse=6470.41473653072\n",
      "Iteration: 281000, A1=444.2221465402204, B1=2.620209222333829 mse=6470.414710047202\n",
      "Iteration: 282000, A1=444.22102464720007, B1=2.620217479753016 mse=6470.414684873807\n",
      "Iteration: 283000, A1=444.21993085567453, B1=2.620225530338024 mse=6470.414660945717\n",
      "Iteration: 284000, A1=444.21886446175074, B1=2.620233379269685 mse=6470.414638201337\n",
      "Iteration: 285000, A1=444.21782477916577, B1=2.620241031599069 mse=6470.414616582094\n",
      "Iteration: 286000, A1=444.2168111388452, B1=2.620248492250736 mse=6470.414596032341\n",
      "Iteration: 287000, A1=444.2158228884761, B1=2.6202557660258745 mse=6470.414576499165\n",
      "Iteration: 288000, A1=444.21485939208355, B1=2.6202628576054225 mse=6470.414557932277\n",
      "Iteration: 289000, A1=444.2139200296219, B1=2.6202697715530756 mse=6470.414540283881\n",
      "Iteration: 290000, A1=444.21300419658075, B1=2.620276512318183 mse=6470.4145235085325\n"
     ]
    },
    {
     "name": "stdout",
     "output_type": "stream",
     "text": [
      "Iteration: 291000, A1=444.2121113035852, B1=2.620283084238696 mse=6470.414507563048\n",
      "Iteration: 292000, A1=444.211240776027, B1=2.620289491543877 mse=6470.414492406371\n",
      "Iteration: 293000, A1=444.21039205368976, B1=2.6202957383570626 mse=6470.414477999485\n",
      "Iteration: 294000, A1=444.2095645903923, B1=2.620301828698285 mse=6470.414464305299\n",
      "Iteration: 295000, A1=444.20875785363074, B1=2.6203077664869086 mse=6470.414451288549\n",
      "Iteration: 296000, A1=444.2079713242412, B1=2.620313555544114 mse=6470.414438915719\n",
      "Iteration: 297000, A1=444.20720449606284, B1=2.620319199595372 mse=6470.414427154972\n",
      "Iteration: 298000, A1=444.20645687561563, B1=2.6203247022728235 mse=6470.41441597602\n",
      "Iteration: 299000, A1=444.2057279817783, B1=2.620330067117642 mse=6470.414405350073\n",
      "Iteration: 300000, A1=444.20501734548077, B1=2.620335297582305 mse=6470.414395249786\n",
      "Iteration: 301000, A1=444.2043245094029, B1=2.6203403970328045 mse=6470.41438564916\n",
      "Iteration: 302000, A1=444.20364902768, B1=2.6203453687508187 mse=6470.414376523457\n",
      "Iteration: 303000, A1=444.20299046561536, B1=2.6203502159358267 mse=6470.414367849202\n",
      "Iteration: 304000, A1=444.20234839940014, B1=2.6203549417071694 mse=6470.414359604049\n",
      "Iteration: 305000, A1=444.2017224158437, B1=2.6203595491060354 mse=6470.414351766786\n",
      "Iteration: 306000, A1=444.2011121121009, B1=2.6203640410974685 mse=6470.414344317216\n",
      "Iteration: 307000, A1=444.2005170954194, B1=2.6203684205722246 mse=6470.414337236174\n",
      "Iteration: 308000, A1=444.19993698288596, B1=2.620372690348645 mse=6470.414330505426\n",
      "Iteration: 309000, A1=444.1993714011755, B1=2.620376853174497 mse=6470.414324107644\n",
      "Iteration: 310000, A1=444.19881998631763, B1=2.6203809117286943 mse=6470.414318026351\n",
      "Iteration: 311000, A1=444.19828238345525, B1=2.620384868623078 mse=6470.4143122458945\n",
      "Iteration: 312000, A1=444.1977582466218, B1=2.6203887264040486 mse=6470.414306751392\n",
      "Iteration: 313000, A1=444.19724723851647, B1=2.620392487554227 mse=6470.414301528701\n",
      "Iteration: 314000, A1=444.1967490302877, B1=2.6203961544940446 mse=6470.41429656437\n",
      "Iteration: 315000, A1=444.19626330132013, B1=2.6203997295833124 mse=6470.41429184562\n",
      "Iteration: 316000, A1=444.19578973903066, B1=2.620403215122722 mse=6470.414287360305\n",
      "Iteration: 317000, A1=444.1953280386645, B1=2.6204066133553456 mse=6470.414283096872\n",
      "Iteration: 318000, A1=444.1948779031005, B1=2.6204099264680716 mse=6470.414279044348\n",
      "Iteration: 319000, A1=444.19443904266046, B1=2.6204131565930058 mse=6470.414275192303\n",
      "Iteration: 320000, A1=444.1940111749213, B1=2.6204163058088525 mse=6470.414271530811\n",
      "Iteration: 321000, A1=444.19359402453426, B1=2.6204193761422516 mse=6470.41426805045\n",
      "Iteration: 322000, A1=444.1931873230484, B1=2.6204223695690683 mse=6470.414264742257\n",
      "Iteration: 323000, A1=444.19279080873696, B1=2.6204252880156793 mse=6470.414261597724\n",
      "Iteration: 324000, A1=444.1924042264304, B1=2.6204281333601975 mse=6470.414258608747\n",
      "Iteration: 325000, A1=444.1920273273466, B1=2.620430907433723 mse=6470.414255767626\n",
      "Iteration: 326000, A1=444.1916598689396, B1=2.6204336120214564 mse=6470.414253067057\n",
      "Iteration: 327000, A1=444.1913016147339, B1=2.6204362488639164 mse=6470.414250500085\n",
      "Iteration: 328000, A1=444.1909523341805, B1=2.6204388196580037 mse=6470.414248060096\n",
      "Iteration: 329000, A1=444.1906118025063, B1=2.6204413260581054 mse=6470.414245740812\n",
      "Iteration: 330000, A1=444.1902798005661, B1=2.6204437696771867 mse=6470.414243536259\n",
      "Iteration: 331000, A1=444.1899561147064, B1=2.6204461520877906 mse=6470.414241440767\n",
      "Iteration: 332000, A1=444.18964053662125, B1=2.6204484748231036 mse=6470.414239448937\n",
      "Iteration: 333000, A1=444.1893328632265, B1=2.6204507393778753 mse=6470.41423755564\n",
      "Iteration: 334000, A1=444.1890328965212, B1=2.620452947209445 mse=6470.414235756003\n",
      "Iteration: 335000, A1=444.18874044346836, B1=2.620455099738613 mse=6470.414234045396\n",
      "Iteration: 336000, A1=444.1884553158629, B1=2.6204571983506177 mse=6470.414232419401\n",
      "Iteration: 337000, A1=444.1881773302146, B1=2.620459244395993 mse=6470.41423087385\n",
      "Iteration: 338000, A1=444.1879063076304, B1=2.6204612391914384 mse=6470.414229404754\n",
      "Iteration: 339000, A1=444.1876420736963, B1=2.620463184020685 mse=6470.414228008335\n",
      "Iteration: 340000, A1=444.1873844583689, B1=2.620465080135295 mse=6470.414226680997\n",
      "Iteration: 341000, A1=444.1871332958633, B1=2.620466928755489 mse=6470.414225419316\n",
      "Iteration: 342000, A1=444.1868884245483, B1=2.620468731070914 mse=6470.414224220052\n",
      "Iteration: 343000, A1=444.1866496868391, B1=2.6204704882414322 mse=6470.414223080118\n",
      "Iteration: 344000, A1=444.1864169291001, B1=2.6204722013978423 mse=6470.414221996574\n",
      "Iteration: 345000, A1=444.18619000154274, B1=2.6204738716426275 mse=6470.414220966627\n",
      "Iteration: 346000, A1=444.1859687581323, B1=2.6204755000506395 mse=6470.414219987634\n",
      "Iteration: 347000, A1=444.1857530564894, B1=2.6204770876698267 mse=6470.414219057071\n",
      "Iteration: 348000, A1=444.185542757802, B1=2.6204786355218808 mse=6470.414218172544\n",
      "Iteration: 349000, A1=444.1853377267372, B1=2.620480144602887 mse=6470.414217331771\n",
      "Iteration: 350000, A1=444.1851378313483, B1=2.6204816158840076 mse=6470.414216532594\n",
      "Iteration: 351000, A1=444.18494294299563, B1=2.6204830503120617 mse=6470.414215772944\n",
      "Iteration: 352000, A1=444.1847529362615, B1=2.6204844488101577 mse=6470.4142150508815\n",
      "Iteration: 353000, A1=444.1845676888706, B1=2.620485812278271 mse=6470.414214364533\n",
      "Iteration: 354000, A1=444.18438708160977, B1=2.6204871415938418 mse=6470.41421371214\n",
      "Iteration: 355000, A1=444.1842109982503, B1=2.620488437612343 mse=6470.414213092018\n",
      "Iteration: 356000, A1=444.18403932547636, B1=2.6204897011678083 mse=6470.414212502582\n",
      "Iteration: 357000, A1=444.18387195281133, B1=2.620490933073374 mse=6470.414211942294\n",
      "Iteration: 358000, A1=444.18370877254443, B1=2.6204921341218186 mse=6470.414211409729\n",
      "Iteration: 359000, A1=444.1835496796638, B1=2.620493305086056 mse=6470.414210903509\n",
      "Iteration: 360000, A1=444.1833945717859, B1=2.620494446719655 mse=6470.414210422329\n",
      "Iteration: 361000, A1=444.18324334909477, B1=2.6204955597572877 mse=6470.414209964956\n",
      "Iteration: 362000, A1=444.1830959142721, B1=2.620496644915241 mse=6470.414209530201\n",
      "Iteration: 363000, A1=444.1829521724393, B1=2.6204977028918455 mse=6470.4142091169615\n",
      "Iteration: 364000, A1=444.18281203109353, B1=2.6204987343679456 mse=6470.414208724162\n",
      "Iteration: 365000, A1=444.18267540004723, B1=2.6204997400073453 mse=6470.414208350793\n",
      "Iteration: 366000, A1=444.1825421913739, B1=2.6205007204572057 mse=6470.414207995894\n",
      "Iteration: 367000, A1=444.18241231934974, B1=2.6205016763484754 mse=6470.414207658556\n",
      "Iteration: 368000, A1=444.1822857003967, B1=2.6205026082963117 mse=6470.414207337899\n",
      "Iteration: 369000, A1=444.18216225303206, B1=2.6205035169004463 mse=6470.414207033107\n",
      "Iteration: 370000, A1=444.1820418978114, B1=2.6205044027456115 mse=6470.414206743395\n",
      "Iteration: 371000, A1=444.18192455728325, B1=2.6205052664018704 mse=6470.4142064680145\n",
      "Iteration: 372000, A1=444.18181015593433, B1=2.620506108425019 mse=6470.414206206252\n",
      "Iteration: 373000, A1=444.18169862014173, B1=2.6205069293569414 mse=6470.414205957444\n",
      "Iteration: 374000, A1=444.181589878131, B1=2.6205077297259156 mse=6470.414205720941\n",
      "Iteration: 375000, A1=444.18148385992026, B1=2.6205085100470265 mse=6470.414205496143\n",
      "Iteration: 376000, A1=444.1813804972836, B1=2.620509270822433 mse=6470.414205282459\n",
      "Iteration: 377000, A1=444.18127972370405, B1=2.6205100125417187 mse=6470.414205079348\n",
      "Iteration: 378000, A1=444.18118147432995, B1=2.6205107356822075 mse=6470.414204886287\n",
      "Iteration: 379000, A1=444.18108568593374, B1=2.62051144070927 mse=6470.414204702775\n",
      "Iteration: 380000, A1=444.1809922968729, B1=2.6205121280766113 mse=6470.414204528342\n",
      "Iteration: 381000, A1=444.180901247048, B1=2.620512798226579 mse=6470.414204362534\n",
      "Iteration: 382000, A1=444.1808124778647, B1=2.620513451590442 mse=6470.414204204931\n",
      "Iteration: 383000, A1=444.18072593219733, B1=2.620514088588659 mse=6470.414204055126\n",
      "Iteration: 384000, A1=444.1806415543494, B1=2.6205147096311725 mse=6470.414203912733\n",
      "Iteration: 385000, A1=444.18055929002264, B1=2.6205153151176295 mse=6470.414203777378\n",
      "Iteration: 386000, A1=444.18047908627574, B1=2.620515905437692 mse=6470.414203648724\n"
     ]
    },
    {
     "name": "stdout",
     "output_type": "stream",
     "text": [
      "Iteration: 387000, A1=444.1804008914943, B1=2.6205164809712564 mse=6470.414203526432\n",
      "Iteration: 388000, A1=444.18032465535947, B1=2.620517042088681 mse=6470.414203410191\n",
      "Iteration: 389000, A1=444.18025032880877, B1=2.620517589151079 mse=6470.414203299701\n",
      "Iteration: 390000, A1=444.1801778640108, B1=2.6205181225105014 mse=6470.414203194678\n",
      "Iteration: 391000, A1=444.18010721433143, B1=2.6205186425101874 mse=6470.414203094848\n",
      "Iteration: 392000, A1=444.18003833430515, B1=2.620519149484774 mse=6470.414202999958\n",
      "Iteration: 393000, A1=444.1799711796043, B1=2.620519643760525 mse=6470.414202909761\n",
      "Iteration: 394000, A1=444.1799057070139, B1=2.6205201256555135 mse=6470.414202824023\n",
      "Iteration: 395000, A1=444.17984187440015, B1=2.6205205954798556 mse=6470.4142027425305\n",
      "Iteration: 396000, A1=444.17977964068433, B1=2.6205210535359 mse=6470.414202665065\n",
      "Iteration: 397000, A1=444.1797189658166, B1=2.6205215001184237 mse=6470.414202591435\n",
      "Iteration: 398000, A1=444.1796598107497, B1=2.6205219355148257 mse=6470.41420252145\n",
      "Iteration: 399000, A1=444.1796021374161, B1=2.6205223600052925 mse=6470.414202454921\n",
      "Iteration: 400000, A1=444.1795459087007, B1=2.6205227738629997 mse=6470.4142023916875\n",
      "Iteration: 401000, A1=444.1794910884178, B1=2.620523177354284 mse=6470.414202331581\n",
      "Iteration: 402000, A1=444.17943764128916, B1=2.6205235707388024 mse=6470.414202274451\n",
      "Iteration: 403000, A1=444.17938553291884, B1=2.6205239542697174 mse=6470.414202220145\n",
      "Iteration: 404000, A1=444.1793347297738, B1=2.6205243281938415 mse=6470.41420216852\n",
      "Iteration: 405000, A1=444.1792851991605, B1=2.6205246927518067 mse=6470.414202119454\n",
      "Iteration: 406000, A1=444.17923690920367, B1=2.6205250481782234 mse=6470.414202072819\n",
      "Iteration: 407000, A1=444.179189828828, B1=2.620525394701814 mse=6470.414202028485\n",
      "Iteration: 408000, A1=444.17914392773514, B1=2.6205257325455813 mse=6470.414201986345\n",
      "Iteration: 409000, A1=444.17909917638605, B1=2.6205260619269417 mse=6470.4142019462915\n",
      "Iteration: 410000, A1=444.17905554598053, B1=2.6205263830578702 mse=6470.414201908216\n",
      "Iteration: 411000, A1=444.1790130084425, B1=2.6205266961450158 mse=6470.41420187203\n",
      "Iteration: 412000, A1=444.17897153639626, B1=2.6205270013898683 mse=6470.4142018376315\n",
      "Iteration: 413000, A1=444.17893110315407, B1=2.620527298988859 mse=6470.414201804931\n",
      "Iteration: 414000, A1=444.1788916826952, B1=2.6205275891335047 mse=6470.414201773855\n",
      "Iteration: 415000, A1=444.17885324965147, B1=2.620527872010523 mse=6470.414201744306\n",
      "Iteration: 416000, A1=444.17881577928955, B1=2.620528147801958 mse=6470.414201716226\n",
      "Iteration: 417000, A1=444.17877924749564, B1=2.6205284166852914 mse=6470.414201689535\n",
      "Iteration: 418000, A1=444.1787436307592, B1=2.6205286788335695 mse=6470.414201664163\n",
      "Iteration: 419000, A1=444.1787089061626, B1=2.62052893441547 mse=6470.414201640048\n",
      "Iteration: 420000, A1=444.1786750513578, B1=2.6205291835954805 mse=6470.4142016171245\n",
      "Iteration: 421000, A1=444.1786420445568, B1=2.620529426533967 mse=6470.4142015953375\n",
      "Iteration: 422000, A1=444.1786098645198, B1=2.6205296633872583 mse=6470.414201574621\n",
      "Iteration: 423000, A1=444.17857849053826, B1=2.6205298943077766 mse=6470.414201554939\n",
      "Iteration: 424000, A1=444.17854790241984, B1=2.620530119444141 mse=6470.414201536225\n",
      "Iteration: 425000, A1=444.178518080482, B1=2.6205303389412204 mse=6470.414201518435\n",
      "Iteration: 426000, A1=444.178489005532, B1=2.6205305529402785 mse=6470.414201501527\n",
      "Iteration: 427000, A1=444.17846065885993, B1=2.6205307615790256 mse=6470.414201485456\n",
      "Iteration: 428000, A1=444.17843302222366, B1=2.620530964991728 mse=6470.414201470181\n",
      "Iteration: 429000, A1=444.1784060778381, B1=2.620531163309288 mse=6470.414201455662\n",
      "Iteration: 430000, A1=444.1783798083628, B1=2.6205313566593356 mse=6470.414201441861\n",
      "Iteration: 431000, A1=444.178354196893, B1=2.620531545166295 mse=6470.414201428739\n",
      "Iteration: 432000, A1=444.1783292269464, B1=2.6205317289514802 mse=6470.414201416269\n",
      "Iteration: 433000, A1=444.1783048824544, B1=2.620531908133159 mse=6470.414201404414\n",
      "Iteration: 434000, A1=444.1782811477497, B1=2.620532082826648 mse=6470.4142013931505\n",
      "Iteration: 435000, A1=444.1782580075586, B1=2.6205322531443653 mse=6470.414201382443\n",
      "Iteration: 436000, A1=444.17823544699036, B1=2.6205324191959103 mse=6470.4142013722585\n",
      "Iteration: 437000, A1=444.1782134515251, B1=2.6205325810881526 mse=6470.414201362583\n",
      "Iteration: 438000, A1=444.17819200700785, B1=2.6205327389252773 mse=6470.41420135339\n",
      "Iteration: 439000, A1=444.17817109963903, B1=2.6205328928088516 mse=6470.414201344642\n",
      "Iteration: 440000, A1=444.17815071596505, B1=2.6205330428378986 mse=6470.414201336335\n",
      "Iteration: 441000, A1=444.1781308428664, B1=2.620533189108981 mse=6470.414201328432\n",
      "Iteration: 442000, A1=444.1781114675549, B1=2.620533331716222 mse=6470.414201320929\n",
      "Iteration: 443000, A1=444.17809257756153, B1=2.6205334707513983 mse=6470.414201313788\n",
      "Iteration: 444000, A1=444.1780741607303, B1=2.62053360630398 mse=6470.414201307006\n",
      "Iteration: 445000, A1=444.17805620520966, B1=2.620533738461199 mse=6470.414201300555\n",
      "Iteration: 446000, A1=444.1780386994433, B1=2.6205338673081107 mse=6470.414201294433\n",
      "Iteration: 447000, A1=444.17802163216624, B1=2.6205339929276286 mse=6470.414201288602\n",
      "Iteration: 448000, A1=444.1780049923956, B1=2.620534115400591 mse=6470.414201283062\n",
      "Iteration: 449000, A1=444.1779887694227, B1=2.6205342348058154 mse=6470.414201277801\n",
      "Iteration: 450000, A1=444.17797295280764, B1=2.620534351220142 mse=6470.414201272794\n",
      "Iteration: 451000, A1=444.17795753237135, B1=2.6205344647184923 mse=6470.414201268044\n",
      "Iteration: 452000, A1=444.1779424981905, B1=2.6205345753739033 mse=6470.414201263518\n",
      "Iteration: 453000, A1=444.1779278405895, B1=2.62053468325759 mse=6470.414201259222\n",
      "Iteration: 454000, A1=444.1779135501366, B1=2.6205347884389734 mse=6470.414201255141\n",
      "Iteration: 455000, A1=444.177899617635, B1=2.620534890985744 mse=6470.4142012512575\n",
      "Iteration: 456000, A1=444.17788603411935, B1=2.620534990963889 mse=6470.414201247568\n",
      "Iteration: 457000, A1=444.1778727908468, B1=2.620535088437758 mse=6470.41420124406\n",
      "Iteration: 458000, A1=444.1778598792961, B1=2.6205351834700683 mse=6470.414201240723\n",
      "Iteration: 459000, A1=444.1778472911571, B1=2.620535276121987 mse=6470.414201237555\n",
      "Iteration: 460000, A1=444.17783501832963, B1=2.6205353664531317 mse=6470.41420123454\n",
      "Iteration: 461000, A1=444.1778230529156, B1=2.6205354545216357 mse=6470.4142012316825\n",
      "Iteration: 462000, A1=444.1778113872144, B1=2.6205355403841764 mse=6470.414201228958\n",
      "Iteration: 463000, A1=444.177800013719, B1=2.620535624096007 mse=6470.414201226372\n",
      "Iteration: 464000, A1=444.1777889251073, B1=2.6205357057110215 mse=6470.414201223911\n",
      "Iteration: 465000, A1=444.17777811424907, B1=2.6205357852816995 mse=6470.414201221576\n",
      "Iteration: 466000, A1=444.1777675741846, B1=2.620535862859266 mse=6470.414201219348\n",
      "Iteration: 467000, A1=444.17775729813025, B1=2.620535938493651 mse=6470.41420121724\n",
      "Iteration: 468000, A1=444.1777472794737, B1=2.6205360122335217 mse=6470.414201215231\n",
      "Iteration: 469000, A1=444.1777375117669, B1=2.6205360841263388 mse=6470.4142012133225\n",
      "Iteration: 470000, A1=444.1777279887241, B1=2.620536154218366 mse=6470.414201211512\n",
      "Iteration: 471000, A1=444.1777187042172, B1=2.6205362225547084 mse=6470.4142012097855\n",
      "Iteration: 472000, A1=444.1777096522695, B1=2.620536289179356 mse=6470.4142012081475\n",
      "Iteration: 473000, A1=444.17770082705977, B1=2.6205363541351536 mse=6470.414201206591\n",
      "Iteration: 474000, A1=444.1776922229066, B1=2.620536417463918 mse=6470.414201205111\n",
      "Iteration: 475000, A1=444.1776838342726, B1=2.6205364792064074 mse=6470.414201203705\n",
      "Iteration: 476000, A1=444.17767565575974, B1=2.620536539402351 mse=6470.414201202365\n",
      "Iteration: 477000, A1=444.17766768210436, B1=2.6205365980904918 mse=6470.4142012010925\n",
      "Iteration: 478000, A1=444.17765990817463, B1=2.6205366553086002 mse=6470.414201199883\n",
      "Iteration: 479000, A1=444.17765232896926, B1=2.6205367110934867 mse=6470.414201198735\n",
      "Iteration: 480000, A1=444.1776449396096, B1=2.6205367654810616 mse=6470.414201197644\n",
      "Iteration: 481000, A1=444.1776377353409, B1=2.620536818506319 mse=6470.414201196603\n",
      "Iteration: 482000, A1=444.1776307115268, B1=2.6205368702033853 mse=6470.414201195615\n",
      "Iteration: 483000, A1=444.1776238636472, B1=2.620536920605528 mse=6470.41420119468\n",
      "Iteration: 484000, A1=444.1776171872969, B1=2.6205369697451717 mse=6470.414201193789\n"
     ]
    },
    {
     "name": "stdout",
     "output_type": "stream",
     "text": [
      "Iteration: 485000, A1=444.1776106781761, B1=2.6205370176539633 mse=6470.414201192938\n",
      "Iteration: 486000, A1=444.17760433209804, B1=2.620537064362719 mse=6470.414201192138\n",
      "Iteration: 487000, A1=444.17759814497776, B1=2.6205371099015045 mse=6470.414201191369\n",
      "Iteration: 488000, A1=444.1775921128348, B1=2.6205371542996176 mse=6470.414201190639\n",
      "Iteration: 489000, A1=444.17758623178605, B1=2.620537197585638 mse=6470.414201189951\n",
      "Iteration: 490000, A1=444.1775804980478, B1=2.6205372397874167 mse=6470.414201189294\n",
      "Iteration: 491000, A1=444.17757490793025, B1=2.6205372809321092 mse=6470.414201188667\n",
      "Iteration: 492000, A1=444.17756945783486, B1=2.6205373210462035 mse=6470.414201188073\n",
      "Iteration: 493000, A1=444.17756414425486, B1=2.62053736015551 mse=6470.414201187512\n",
      "Iteration: 494000, A1=444.1775589637712, B1=2.6205373982851925 mse=6470.414201186974\n",
      "Iteration: 495000, A1=444.1775539130499, B1=2.6205374354597915 mse=6470.414201186462\n",
      "Iteration: 496000, A1=444.1775489888403, B1=2.620537471703232 mse=6470.414201185977\n",
      "Iteration: 497000, A1=444.1775441879736, B1=2.6205375070388373 mse=6470.414201185515\n",
      "Iteration: 498000, A1=444.17753950736096, B1=2.6205375414893415 mse=6470.414201185079\n",
      "Iteration: 499000, A1=444.17753494398926, B1=2.6205375750769226 mse=6470.41420118466\n"
     ]
    }
   ],
   "source": [
    "for i in range (500000):\n",
    "    A1 -= alpha*(2/n)*np.sum((A1+B1*X-y))\n",
    "    B1 -= alpha*(2/n)*np.sum((A1+B1*X-y)*X)\n",
    "    if i%1000==0:\n",
    "        print('Iteration: {i}, A1={A1}, B1={B1} mse={mse}'.format(i=i, A1=A1, B1=B1, mse=mse_(A1, B1)))"
   ]
  },
  {
   "cell_type": "code",
   "execution_count": 39,
   "metadata": {},
   "outputs": [
    {
     "data": {
      "text/plain": [
       "6470.414201182209"
      ]
     },
     "execution_count": 39,
     "metadata": {},
     "output_type": "execute_result"
    }
   ],
   "source": [
    "mse_(444.1775, 2.620538)"
   ]
  }
 ],
 "metadata": {
  "kernelspec": {
   "display_name": "Python 3",
   "language": "python",
   "name": "python3"
  },
  "language_info": {
   "codemirror_mode": {
    "name": "ipython",
    "version": 3
   },
   "file_extension": ".py",
   "mimetype": "text/x-python",
   "name": "python",
   "nbconvert_exporter": "python",
   "pygments_lexer": "ipython3",
   "version": "3.8.5"
  }
 },
 "nbformat": 4,
 "nbformat_minor": 4
}
