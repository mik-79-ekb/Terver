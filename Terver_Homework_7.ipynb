{
 "cells": [
  {
   "cell_type": "markdown",
   "metadata": {},
   "source": [
    "## Homework_7"
   ]
  },
  {
   "cell_type": "code",
   "execution_count": 1,
   "metadata": {},
   "outputs": [],
   "source": [
    "import numpy as np"
   ]
  },
  {
   "cell_type": "code",
   "execution_count": 2,
   "metadata": {},
   "outputs": [],
   "source": [
    "from math import sqrt"
   ]
  },
  {
   "cell_type": "markdown",
   "metadata": {},
   "source": [
    "1. Даны значения величины заработной платы заемщиков банка (zp) и значения их поведенческого кредитного скоринга (ks): zp = [35, 45, 190, 200, 40, 70, 54, 150, 120, 110], ks = [401, 574, 874, 919, 459, 739, 653, 902, 746, 832]. Используя математические операции, посчитать коэффициенты линейной регрессии, приняв за X заработную плату (то есть, zp - признак), а за y - значения скорингового балла (то есть, ks - целевая переменная). Произвести расчет как с использованием intercept, так и без."
   ]
  },
  {
   "cell_type": "code",
   "execution_count": 3,
   "metadata": {},
   "outputs": [],
   "source": [
    "# Произвести расчет с использованием intercept"
   ]
  },
  {
   "cell_type": "code",
   "execution_count": 4,
   "metadata": {},
   "outputs": [],
   "source": [
    "X = np.array([35, 45, 190, 200, 40, 70, 54, 150, 120, 110])"
   ]
  },
  {
   "cell_type": "code",
   "execution_count": 5,
   "metadata": {},
   "outputs": [],
   "source": [
    "y = np.array([401, 574, 874, 919, 459, 739, 653, 902, 746, 832])"
   ]
  },
  {
   "cell_type": "code",
   "execution_count": 6,
   "metadata": {
    "scrolled": false
   },
   "outputs": [
    {
     "data": {
      "text/plain": [
       "2.620538882402765"
      ]
     },
     "execution_count": 6,
     "metadata": {},
     "output_type": "execute_result"
    }
   ],
   "source": [
    "b = (np.mean(X*y)-np.mean(X)*np.mean(y))/(np.mean(X**2) - np.mean(X)**2)\n",
    "b"
   ]
  },
  {
   "cell_type": "code",
   "execution_count": 7,
   "metadata": {},
   "outputs": [
    {
     "data": {
      "text/plain": [
       "10"
      ]
     },
     "execution_count": 7,
     "metadata": {},
     "output_type": "execute_result"
    }
   ],
   "source": [
    "n = len(X)\n",
    "n"
   ]
  },
  {
   "cell_type": "code",
   "execution_count": 8,
   "metadata": {},
   "outputs": [
    {
     "data": {
      "text/plain": [
       "2.6205388824027653"
      ]
     },
     "execution_count": 8,
     "metadata": {},
     "output_type": "execute_result"
    }
   ],
   "source": [
    "b = (n*(np.sum(X*y)) - (np.sum(X) * np.sum(y)))/(n*(np.sum(X**2))-((np.sum(X)**2)))\n",
    "b"
   ]
  },
  {
   "cell_type": "code",
   "execution_count": 9,
   "metadata": {},
   "outputs": [
    {
     "data": {
      "text/plain": [
       "444.17735732435955"
      ]
     },
     "execution_count": 9,
     "metadata": {},
     "output_type": "execute_result"
    }
   ],
   "source": [
    "a = np.mean(y) - b*np.mean(X)\n",
    "a"
   ]
  },
  {
   "cell_type": "code",
   "execution_count": 10,
   "metadata": {
    "scrolled": true
   },
   "outputs": [
    {
     "data": {
      "text/plain": [
       "array([535.915, 562.125, 942.17 , 968.38 , 549.02 , 627.65 , 585.714,\n",
       "       837.33 , 758.7  , 732.49 ])"
      ]
     },
     "execution_count": 10,
     "metadata": {},
     "output_type": "execute_result"
    }
   ],
   "source": [
    "y_hat = 444.18 + 2.621*X\n",
    "y_hat"
   ]
  },
  {
   "cell_type": "code",
   "execution_count": 11,
   "metadata": {},
   "outputs": [
    {
     "data": {
      "text/plain": [
       "array([401, 574, 874, 919, 459, 739, 653, 902, 746, 832])"
      ]
     },
     "execution_count": 11,
     "metadata": {},
     "output_type": "execute_result"
    }
   ],
   "source": [
    "y"
   ]
  },
  {
   "cell_type": "code",
   "execution_count": 12,
   "metadata": {
    "scrolled": true
   },
   "outputs": [
    {
     "data": {
      "text/plain": [
       "6470.417384600003"
      ]
     },
     "execution_count": 12,
     "metadata": {},
     "output_type": "execute_result"
    }
   ],
   "source": [
    "mse=((y-y_hat)**2).sum()/n\n",
    "mse"
   ]
  },
  {
   "cell_type": "code",
   "execution_count": 13,
   "metadata": {},
   "outputs": [
    {
     "data": {
      "image/png": "[encoded data removed]",
      "text/plain": [
       "<Figure size 432x288 with 1 Axes>"
      ]
     },
     "metadata": {
      "needs_background": "light"
     },
     "output_type": "display_data"
    }
   ],
   "source": [
    "import matplotlib.pyplot as plt \n",
    "%matplotlib inline\n",
    "plt.scatter(X,y) \n",
    "plt.plot(X,444.18 + 2.621*X)\n",
    "plt.show()"
   ]
  },
  {
   "cell_type": "code",
   "execution_count": 14,
   "metadata": {},
   "outputs": [],
   "source": [
    "# Произвести расчет без использования intercept"
   ]
  },
  {
   "cell_type": "code",
   "execution_count": 15,
   "metadata": {},
   "outputs": [],
   "source": [
    "import seaborn as sns"
   ]
  },
  {
   "cell_type": "code",
   "execution_count": 16,
   "metadata": {},
   "outputs": [
    {
     "data": {
      "text/plain": [
       "10"
      ]
     },
     "execution_count": 16,
     "metadata": {},
     "output_type": "execute_result"
    }
   ],
   "source": [
    "len(X)"
   ]
  },
  {
   "cell_type": "code",
   "execution_count": 17,
   "metadata": {},
   "outputs": [
    {
     "data": {
      "text/plain": [
       "array([[ 35],\n",
       "       [ 45],\n",
       "       [190],\n",
       "       [200],\n",
       "       [ 40],\n",
       "       [ 70],\n",
       "       [ 54],\n",
       "       [150],\n",
       "       [120],\n",
       "       [110]])"
      ]
     },
     "execution_count": 17,
     "metadata": {},
     "output_type": "execute_result"
    }
   ],
   "source": [
    "X = X.reshape((len(X),1))\n",
    "X"
   ]
  },
  {
   "cell_type": "code",
   "execution_count": 18,
   "metadata": {},
   "outputs": [
    {
     "data": {
      "text/plain": [
       "array([[401],\n",
       "       [574],\n",
       "       [874],\n",
       "       [919],\n",
       "       [459],\n",
       "       [739],\n",
       "       [653],\n",
       "       [902],\n",
       "       [746],\n",
       "       [832]])"
      ]
     },
     "execution_count": 18,
     "metadata": {},
     "output_type": "execute_result"
    }
   ],
   "source": [
    "y = y.reshape((len(X),1))\n",
    "y"
   ]
  },
  {
   "cell_type": "code",
   "execution_count": 19,
   "metadata": {},
   "outputs": [
    {
     "data": {
      "text/plain": [
       "array([[5.88982042]])"
      ]
     },
     "execution_count": 19,
     "metadata": {},
     "output_type": "execute_result"
    }
   ],
   "source": [
    "B = np.dot(np.linalg.inv(np.dot(X.T,X)),X.T@y)\n",
    "B"
   ]
  },
  {
   "cell_type": "code",
   "execution_count": 20,
   "metadata": {},
   "outputs": [
    {
     "data": {
      "text/plain": [
       "array([[ 206.1437147 ],\n",
       "       [ 265.04191891],\n",
       "       [1119.06587983],\n",
       "       [1177.96408403],\n",
       "       [ 235.59281681],\n",
       "       [ 412.28742941],\n",
       "       [ 318.05030269],\n",
       "       [ 883.47306302],\n",
       "       [ 706.77845042],\n",
       "       [ 647.88024621]])"
      ]
     },
     "execution_count": 20,
     "metadata": {},
     "output_type": "execute_result"
    }
   ],
   "source": [
    "y_hat = B*X\n",
    "y_hat"
   ]
  },
  {
   "cell_type": "code",
   "execution_count": 21,
   "metadata": {},
   "outputs": [
    {
     "data": {
      "text/plain": [
       "56516.8584157194"
      ]
     },
     "execution_count": 21,
     "metadata": {},
     "output_type": "execute_result"
    }
   ],
   "source": [
    "mse=((y-y_hat)**2).sum()/n\n",
    "mse"
   ]
  },
  {
   "cell_type": "code",
   "execution_count": 22,
   "metadata": {},
   "outputs": [
    {
     "data": {
      "image/png": "[encoded data removed]",
      "text/plain": [
       "<Figure size 432x288 with 1 Axes>"
      ]
     },
     "metadata": {
      "needs_background": "light"
     },
     "output_type": "display_data"
    }
   ],
   "source": [
    "%matplotlib inline\n",
    "plt.scatter(X,y) \n",
    "plt.plot(X,5.88982*X)\n",
    "plt.show()"
   ]
  },
  {
   "cell_type": "markdown",
   "metadata": {},
   "source": [
    "2.\tПосчитать коэффициент линейной регрессии при заработной плате (zp), используя градиентный спуск (без intercept)."
   ]
  },
  {
   "cell_type": "code",
   "execution_count": 23,
   "metadata": {},
   "outputs": [],
   "source": [
    "X = np.array([35, 45, 190, 200, 40, 70, 54, 150, 120, 110])"
   ]
  },
  {
   "cell_type": "code",
   "execution_count": 24,
   "metadata": {},
   "outputs": [],
   "source": [
    "y = np.array([401, 574, 874, 919, 459, 739, 653, 902, 746, 832])"
   ]
  },
  {
   "cell_type": "code",
   "execution_count": 25,
   "metadata": {},
   "outputs": [],
   "source": [
    "def mse_(B1,y=y,X=X,n=len(X)): \n",
    "    return np.sum((B1*X-y)**2)/n"
   ]
  },
  {
   "cell_type": "code",
   "execution_count": 26,
   "metadata": {},
   "outputs": [
    {
     "data": {
      "text/plain": [
       "1e-06"
      ]
     },
     "execution_count": 26,
     "metadata": {},
     "output_type": "execute_result"
    }
   ],
   "source": [
    "alpha = 1e-6\n",
    "alpha"
   ]
  },
  {
   "cell_type": "code",
   "execution_count": 27,
   "metadata": {},
   "outputs": [],
   "source": [
    "B1 = 0.1"
   ]
  },
  {
   "cell_type": "code",
   "execution_count": 28,
   "metadata": {},
   "outputs": [],
   "source": [
    "n = len(X)"
   ]
  },
  {
   "cell_type": "code",
   "execution_count": 29,
   "metadata": {},
   "outputs": [
    {
     "name": "stdout",
     "output_type": "stream",
     "text": [
      "Iteration: 0, B1=0.25952808, mse=493237.7212546963\n",
      "Iteration: 50, B1=4.497229618367758, mse=83233.94472982832\n",
      "Iteration: 100, B1=5.54537842245223, mse=58151.31823171113\n",
      "Iteration: 150, B1=5.804626485478126, mse=56616.849068093856\n",
      "Iteration: 200, B1=5.868748638669329, mse=56522.97550129376\n",
      "Iteration: 250, B1=5.884608547059329, mse=56517.232638059555\n",
      "Iteration: 300, B1=5.888531320728348, mse=56516.88130936019\n",
      "Iteration: 350, B1=5.889501575592372, mse=56516.85981627392\n",
      "Iteration: 400, B1=5.8897415574471985, mse=56516.85850140053\n",
      "Iteration: 450, B1=5.889800914315978, mse=56516.858420961085\n",
      "Iteration: 500, B1=5.889815595583751, mse=56516.858416040064\n",
      "Iteration: 550, B1=5.889819226833643, mse=56516.858415739014\n",
      "Iteration: 600, B1=5.889820124983314, mse=56516.85841572062\n",
      "Iteration: 650, B1=5.889820347130743, mse=56516.858415719485\n"
     ]
    }
   ],
   "source": [
    "for i in range (700):\n",
    "    B1 -= alpha*(2/n)*np.sum((B1*X-y)*X)\n",
    "    if i%50==0:\n",
    "        print('Iteration: {i}, B1={B1}, mse={mse}'.format(i=i, B1=B1, mse=mse_(B1)))"
   ]
  },
  {
   "cell_type": "code",
   "execution_count": 30,
   "metadata": {},
   "outputs": [
    {
     "data": {
      "text/plain": [
       "56516.858415720075"
      ]
     },
     "execution_count": 30,
     "metadata": {},
     "output_type": "execute_result"
    }
   ],
   "source": [
    "mse_(5.8898202)"
   ]
  },
  {
   "cell_type": "markdown",
   "metadata": {},
   "source": [
    "3.\tВ каких случаях для вычисления доверительных интервалов и проверки статистических гипотез используется таблица значений функции Лапласа, а в каких - таблица критических точек распределения Стьюдента?"
   ]
  },
  {
   "cell_type": "markdown",
   "metadata": {},
   "source": [
    "Для вычисления доверительных интервалов и проверки статистических гипотез используется таблица значений функции Лапласа, когда известна сигма - среднеквадрати́ческое отклоне́ние."
   ]
  },
  {
   "cell_type": "markdown",
   "metadata": {},
   "source": [
    "Для вычисления доверительных интервалов и проверки статистических гипотез используется таблица критических точек распределения Стьюдента, когда неизвестна сигма - среднеквадрати́ческое отклоне́ние"
   ]
  },
  {
   "cell_type": "markdown",
   "metadata": {},
   "source": [
    "*4. Произвести вычисления как в пункте 2, но с вычислением intercept. Учесть, что изменение коэффициентов должно производиться на каждом шаге одновременно (то есть изменение одного коэффициента не должно влиять на изменение другого во время одной итерации)."
   ]
  },
  {
   "cell_type": "code",
   "execution_count": 31,
   "metadata": {},
   "outputs": [],
   "source": [
    "X = np.array([35, 45, 190, 200, 40, 70, 54, 150, 120, 110])"
   ]
  },
  {
   "cell_type": "code",
   "execution_count": 32,
   "metadata": {},
   "outputs": [],
   "source": [
    "y = np.array([401, 574, 874, 919, 459, 739, 653, 902, 746, 832])"
   ]
  },
  {
   "cell_type": "code",
   "execution_count": 33,
   "metadata": {},
   "outputs": [],
   "source": [
    "def mse_(A1,B1,y=y,X=X,n=len(X)): \n",
    "    return np.sum(((A1+B1*X)-y)**2)/n"
   ]
  },
  {
   "cell_type": "code",
   "execution_count": 34,
   "metadata": {},
   "outputs": [
    {
     "data": {
      "text/plain": [
       "1e-06"
      ]
     },
     "execution_count": 34,
     "metadata": {},
     "output_type": "execute_result"
    }
   ],
   "source": [
    "alpha = 1e-6\n",
    "alpha"
   ]
  },
  {
   "cell_type": "code",
   "execution_count": 35,
   "metadata": {},
   "outputs": [],
   "source": [
    "B1 = 0.1"
   ]
  },
  {
   "cell_type": "code",
   "execution_count": 36,
   "metadata": {},
   "outputs": [],
   "source": [
    "A1 = 500"
   ]
  },
  {
   "cell_type": "code",
   "execution_count": 37,
   "metadata": {},
   "outputs": [],
   "source": [
    "n = len(X)"
   ]
  },
  {
   "cell_type": "code",
   "execution_count": 38,
   "metadata": {
    "scrolled": true
   },
   "outputs": [
    {
     "name": "stdout",
     "output_type": "stream",
     "text": [
      "Iteration: 0, A1=499.931423674, B1=0.15814198727891282 mse=65269.809299702174\n",
      "Iteration: 50, A1=498.5620970428372, B1=1.7083844502791257 mse=10830.242822178185\n",
      "Iteration: 100, A1=498.13867785268485, B1=2.0951713911821184 mse=7435.448084559376\n",
      "Iteration: 150, A1=497.77449146799864, B1=2.192919897203205 mse=7214.224415877101\n",
      "Iteration: 200, A1=497.41449668034943, B1=2.219096219195724 mse=7190.619429927283\n",
      "Iteration: 250, A1=497.05523895751077, B1=2.2275621599450024 mse=7179.87591187347\n",
      "Iteration: 300, A1=496.69648436422193, B1=2.2316445827581375 mse=7170.162916544892\n",
      "Iteration: 350, A1=496.338210278141, B1=2.234640098007799 mse=7160.62811778048\n",
      "Iteration: 400, A1=495.98041051950935, B1=2.237364139722291 mse=7151.187401312166\n",
      "Iteration: 450, A1=495.62308079498564, B1=2.2400184228469366 mse=7141.827471952313\n",
      "Iteration: 500, A1=495.26621715669523, B1=2.242652861734761 mse=7132.5452531452365\n",
      "Iteration: 550, A1=494.9098157471764, B1=2.2452798236664515 mse=7123.3397499154\n",
      "Iteration: 600, A1=494.5538727439358, B1=2.2479023887914114 mse=7114.210456888187\n",
      "Iteration: 650, A1=494.1983843460911, B1=2.2505213400494637 mse=7105.156990602877\n",
      "Iteration: 700, A1=493.84334677096894, B1=2.2531368920848314 mse=7096.179000231932\n",
      "Iteration: 750, A1=493.4887562531354, B1=2.255749118883013 mse=7087.2761456016015\n",
      "Iteration: 800, A1=493.1346090440276, B1=2.2583580595449955 mse=7078.448091747431\n",
      "Iteration: 850, A1=492.7809014117343, B1=2.260963744450799 mse=7069.694507548835\n",
      "Iteration: 900, A1=492.4276296408139, B1=2.2635662017317895 mse=7061.0150653712435\n",
      "Iteration: 950, A1=492.07479003212353, B1=2.2661654588725075 mse=7052.409440957394\n",
      "Iteration: 1000, A1=491.72237890265154, B1=2.2687615431078014 mse=7043.877313380377\n",
      "Iteration: 1050, A1=491.3703925853515, B1=2.271354481521963 mse=7035.418365012219\n",
      "Iteration: 1100, A1=491.01882742897885, B1=2.273944301074168 mse=7027.032281496562\n",
      "Iteration: 1150, A1=490.667679797926, B1=2.2765310286056755 mse=7018.718751722513\n",
      "Iteration: 1200, A1=490.3169460720627, B1=2.279114690842507 mse=7010.477467799184\n",
      "Iteration: 1250, A1=489.96662264657516, B1=2.281695314396993 mse=7002.308125030446\n",
      "Iteration: 1300, A1=489.616705931806, B1=2.2842729257690446 mse=6994.210421890151\n",
      "Iteration: 1350, A1=489.2671923530969, B1=2.28684755134735 mse=6986.184059997572\n",
      "Iteration: 1400, A1=488.9180783506326, B1=2.289419217410533 mse=6978.228744093208\n",
      "Iteration: 1450, A1=488.5693603792842, B1=2.2919879501283082 mse=6970.3441820148755\n",
      "Iteration: 1500, A1=488.2210349084561, B1=2.294553775562621 mse=6962.530084674096\n",
      "Iteration: 1550, A1=487.8730984219319, B1=2.2971167196687796 mse=6954.78616603275\n",
      "Iteration: 1600, A1=487.5255474177228, B1=2.299676808296587 mse=6947.1121430801195\n",
      "Iteration: 1650, A1=487.17837840791697, B1=2.302234067191446 mse=6939.507735810112\n",
      "Iteration: 1700, A1=486.83158791853, B1=2.3047885219954782 mse=6931.972667198839\n",
      "Iteration: 1750, A1=486.48517248935553, B1=2.30734019824861 mse=6924.506663182465\n",
      "Iteration: 1800, A1=486.13912867381896, B1=2.3098891213896766 mse=6917.109452635319\n",
      "Iteration: 1850, A1=485.79345303882974, B1=2.3124353167574987 mse=6909.780767348282\n",
      "Iteration: 1900, A1=485.44814216463715, B1=2.314978809591958 mse=6902.520342007518\n",
      "Iteration: 1950, A1=485.1031926446856, B1=2.3175196250350654 mse=6895.327914173363\n",
      "Iteration: 2000, A1=484.75860108547135, B1=2.320057788132019 mse=6888.203224259572\n",
      "Iteration: 2050, A1=484.4143641064007, B1=2.32259332383226 mse=6881.1460155128125\n",
      "Iteration: 2100, A1=484.0704783396485, B1=2.3251262569905085 mse=6874.156033992389\n",
      "Iteration: 2150, A1=483.72694043001815, B1=2.3276566123678095 mse=6867.233028550267\n",
      "Iteration: 2200, A1=483.3837470348025, B1=2.330184414632558 mse=6860.376750811333\n",
      "Iteration: 2250, A1=483.04089482364566, B1=2.3327096883615197 mse=6853.586955153917\n",
      "Iteration: 2300, A1=482.6983804784054, B1=2.3352324580408474 mse=6846.863398690557\n",
      "Iteration: 2350, A1=482.35620069301734, B1=2.3377527480670923 mse=6840.205841249032\n",
      "Iteration: 2400, A1=482.0143521733602, B1=2.340270582748197 mse=6833.614045353626\n",
      "Iteration: 2450, A1=481.67283163712005, B1=2.342785986304495 mse=6827.08777620665\n",
      "Iteration: 2500, A1=481.3316358136579, B1=2.3452989828697004 mse=6820.626801670175\n",
      "Iteration: 2550, A1=480.99076144387703, B1=2.3478095964918766 mse=6814.230892248053\n",
      "Iteration: 2600, A1=480.65020528009086, B1=2.350317851134422 mse=6807.899821068143\n",
      "Iteration: 2650, A1=480.30996408589255, B1=2.3528237706770354 mse=6801.633363864741\n",
      "Iteration: 2700, A1=479.97003463602516, B1=2.3553273789166695 mse=6795.431298961348\n",
      "Iteration: 2750, A1=479.6304137162523, B1=2.3578286995684934 mse=6789.293407253524\n",
      "Iteration: 2800, A1=479.29109812323037, B1=2.360327756266832 mse=6783.219472192106\n",
      "Iteration: 2850, A1=478.9520846643809, B1=2.3628245725661174 mse=6777.209279766535\n",
      "Iteration: 2900, A1=478.6133701577641, B1=2.365319171941813 mse=6771.26261848851\n",
      "Iteration: 2950, A1=478.27495143195296, B1=2.3678115777913584 mse=6765.379279375762\n",
      "Iteration: 3000, A1=477.93682532590844, B1=2.3703018134350775 mse=6759.55905593613\n",
      "Iteration: 3050, A1=477.59898868885585, B1=2.372789902117104 mse=6753.80174415182\n",
      "Iteration: 3100, A1=477.2614383801607, B1=2.3752758670062946 mse=6748.107142463858\n",
      "Iteration: 3150, A1=476.92417126920674, B1=2.3777597311971332 mse=6742.475051756803\n",
      "Iteration: 3200, A1=476.58718423527364, B1=2.380241517710625 mse=6736.905275343595\n",
      "Iteration: 3250, A1=476.2504741674166, B1=2.3827212494952024 mse=6731.39761895074\n",
      "Iteration: 3300, A1=475.9140379643456, B1=2.3851989494276085 mse=6725.951890703529\n",
      "Iteration: 3350, A1=475.57787253430536, B1=2.3876746403137816 mse=6720.567901111621\n",
      "Iteration: 3400, A1=475.2419747949579, B1=2.3901483448897296 mse=6715.245463054722\n",
      "Iteration: 3450, A1=474.9063416732627, B1=2.392620085822418 mse=6709.984391768514\n",
      "Iteration: 3500, A1=474.5709701053602, B1=2.3950898857106195 mse=6704.784504830788\n",
      "Iteration: 3550, A1=474.235857036455, B1=2.3975577670857886 mse=6699.64562214772\n",
      "Iteration: 3600, A1=473.9009994206997, B1=2.400023752412914 mse=6694.567565940431\n",
      "Iteration: 3650, A1=473.5663942210794, B1=2.4024878640913774 mse=6689.550160731628\n",
      "Iteration: 3700, A1=473.2320384092964, B1=2.4049501244557963 mse=6684.59323333254\n",
      "Iteration: 3750, A1=472.8979289656573, B1=2.407410555776868 mse=6679.696612829977\n",
      "Iteration: 3800, A1=472.56406287895874, B1=2.4098691802622136 mse=6674.860130573637\n",
      "Iteration: 3850, A1=472.2304371463742, B1=2.4123260200572054 mse=6670.0836201635075\n",
      "Iteration: 3900, A1=471.89704877334293, B1=2.4147810972457946 mse=6665.366917437551\n",
      "Iteration: 3950, A1=471.56389477345743, B1=2.417234433851345 mse=6660.709860459526\n",
      "Iteration: 4000, A1=471.2309721683524, B1=2.4196860518374437 mse=6656.112289506974\n",
      "Iteration: 4050, A1=470.8982779875951, B1=2.4221359731087246 mse=6651.57404705941\n",
      "Iteration: 4100, A1=470.565809268575, B1=2.4245842195116722 mse=6647.094977786719\n",
      "Iteration: 4150, A1=470.23356305639453, B1=2.427030812835434 mse=6642.6749285376545\n",
      "Iteration: 4200, A1=469.90153640376093, B1=2.42947577481262 mse=6638.313748328609\n",
      "Iteration: 4250, A1=469.56972637087716, B1=2.4319191271201035 mse=6634.01128833244\n",
      "Iteration: 4300, A1=469.23813002533495, B1=2.434360891379815 mse=6629.767401867595\n",
      "Iteration: 4350, A1=468.9067444420084, B1=2.4368010891595366 mse=6625.581944387336\n",
      "Iteration: 4400, A1=468.5755667029465, B1=2.439239741973676 mse=6621.454773469113\n",
      "Iteration: 4450, A1=468.24459389726707, B1=2.4416768712840655 mse=6617.385748804178\n",
      "Iteration: 4500, A1=467.91382312105236, B1=2.4441124985007296 mse=6613.374732187312\n",
      "Iteration: 4550, A1=467.58325147724366, B1=2.4465466449826634 mse=6609.42158750674\n",
      "Iteration: 4600, A1=467.2528760755363, B1=2.4489793320386024 mse=6605.526180734194\n",
      "Iteration: 4650, A1=466.9226940322763, B1=2.4514105809277953 mse=6601.688379915169\n",
      "Iteration: 4700, A1=466.59270247035704, B1=2.4538404128607594 mse=6597.9080551593\n",
      "Iteration: 4750, A1=466.2628985191159, B1=2.4562688490000477 mse=6594.185078630949\n",
      "Iteration: 4800, A1=465.9332793142318, B1=2.4586959104610036 mse=6590.519324539903\n",
      "Iteration: 4850, A1=465.6038419976235, B1=2.461121618312515 mse=6586.910669132254\n",
      "Iteration: 4900, A1=465.27458371734707, B1=2.463545993577766 mse=6583.3589906814595\n",
      "Iteration: 4950, A1=464.9455016274963, B1=2.4659690572349753 mse=6579.86416947952\n",
      "Iteration: 5000, A1=464.61659288810057, B1=2.468390830218154 mse=6576.426087828311\n",
      "Iteration: 5050, A1=464.2878546650253, B1=2.4708113334178314 mse=6573.044630031128\n"
     ]
    },
    {
     "name": "stdout",
     "output_type": "stream",
     "text": [
      "Iteration: 5100, A1=463.95928412987166, B1=2.4732305876818037 mse=6569.719682384302\n",
      "Iteration: 5150, A1=463.63087845987764, B1=2.4756486138158604 mse=6566.451133169027\n",
      "Iteration: 5200, A1=463.3026348378186, B1=2.4780654325845224 mse=6563.238872643322\n",
      "Iteration: 5250, A1=462.97455045190844, B1=2.4804810647117606 mse=6560.082793034136\n",
      "Iteration: 5300, A1=462.64662249570205, B1=2.482895530881731 mse=6556.982788529598\n",
      "Iteration: 5350, A1=462.31884816799703, B1=2.485308851739492 mse=6553.93875527145\n",
      "Iteration: 5400, A1=461.99122467273577, B1=2.487721047891724 mse=6550.9505913475605\n",
      "Iteration: 5450, A1=461.66374921890883, B1=2.4901321399074456 mse=6548.018196784665\n",
      "Iteration: 5500, A1=461.33641902045855, B1=2.4925421483187313 mse=6545.141473541197\n",
      "Iteration: 5550, A1=461.0092312961813, B1=2.494951093621423 mse=6542.320325500268\n",
      "Iteration: 5600, A1=460.6821832696333, B1=2.4973589962758322 mse=6539.554658462818\n",
      "Iteration: 5650, A1=460.35527216903336, B1=2.499765876707451 mse=6536.844380140892\n",
      "Iteration: 5700, A1=460.0284952271678, B1=2.5021717553076583 mse=6534.189400151025\n",
      "Iteration: 5750, A1=459.7018496812959, B1=2.5045766524344173 mse=6531.589630007875\n",
      "Iteration: 5800, A1=459.3753327730549, B1=2.5069805884129766 mse=6529.04498311784\n",
      "Iteration: 5850, A1=459.04894174836505, B1=2.509383583536566 mse=6526.55537477296\n",
      "Iteration: 5900, A1=458.72267385733636, B1=2.5117856580670903 mse=6524.120722144854\n",
      "Iteration: 5950, A1=458.396526354174, B1=2.5141868322358265 mse=6521.740944278882\n",
      "Iteration: 6000, A1=458.07049649708574, B1=2.5165871262441013 mse=6519.415962088353\n",
      "Iteration: 6050, A1=457.74458154818706, B1=2.518986560263996 mse=6517.1456983489525\n",
      "Iteration: 6100, A1=457.4187787734096, B1=2.5213851544390185 mse=6514.930077693245\n",
      "Iteration: 6150, A1=457.09308544240804, B1=2.5237829288847973 mse=6512.769026605351\n",
      "Iteration: 6200, A1=456.76749882846804, B1=2.5261799036897528 mse=6510.662473415745\n",
      "Iteration: 6250, A1=456.4420162084126, B1=2.5285760989157864 mse=6508.610348296184\n",
      "Iteration: 6300, A1=456.1166348625119, B1=2.530971534598954 mse=6506.612583254758\n",
      "Iteration: 6350, A1=455.79135207439043, B1=2.533366230750143 mse=6504.669112131118\n",
      "Iteration: 6400, A1=455.46616513093613, B1=2.5357602073557484 mse=6502.779870591779\n",
      "Iteration: 6450, A1=455.14107132220914, B1=2.5381534843783413 mse=6500.944796125608\n",
      "Iteration: 6500, A1=454.81606794134996, B1=2.5405460817573435 mse=6499.163828039377\n",
      "Iteration: 6550, A1=454.49115228449006, B1=2.5429380194096955 mse=6497.436907453526\n",
      "Iteration: 6600, A1=454.1663216506599, B1=2.5453293172305287 mse=6495.763977297999\n",
      "Iteration: 6650, A1=453.8415733416995, B1=2.5477199950938236 mse=6494.144982308237\n",
      "Iteration: 6700, A1=453.51690466216775, B1=2.55011007285308 mse=6492.57986902127\n",
      "Iteration: 6750, A1=453.19231291925314, B1=2.552499570341979 mse=6491.068585771989\n",
      "Iteration: 6800, A1=452.8677954226829, B1=2.554888507375045 mse=6489.61108268948\n",
      "Iteration: 6850, A1=452.5433494846341, B1=2.557276903748306 mse=6488.207311693548\n",
      "Iteration: 6900, A1=452.21897241964393, B1=2.5596647792399554 mse=6486.857226491329\n",
      "Iteration: 6950, A1=451.8946615445207, B1=2.562052153611005 mse=6485.560782574056\n",
      "Iteration: 7000, A1=451.5704141782546, B1=2.564439046605946 mse=6484.3179372139075\n",
      "Iteration: 7050, A1=451.2462276419283, B1=2.5668254779534005 mse=6483.128649461034\n",
      "Iteration: 7100, A1=450.9220992586286, B1=2.5692114673667845 mse=6481.992880140692\n",
      "Iteration: 7150, A1=450.59802635335774, B1=2.571597034544952 mse=6480.910591850479\n",
      "Iteration: 7200, A1=450.2740062529442, B1=2.5739821991728533 mse=6479.881748957729\n",
      "Iteration: 7250, A1=449.9500362859556, B1=2.5763669809221827 mse=6478.906317597006\n",
      "Iteration: 7300, A1=449.62611378260897, B1=2.57875139945203 mse=6477.984265667756\n",
      "Iteration: 7350, A1=449.30223607468315, B1=2.5811354744095385 mse=6477.115562832025\n",
      "Iteration: 7400, A1=448.97840049543095, B1=2.5835192254305377 mse=6476.300180512379\n",
      "Iteration: 7450, A1=448.65460437949133, B1=2.5859026721402016 mse=6475.538091889857\n",
      "Iteration: 7500, A1=448.33084506280034, B1=2.588285834153697 mse=6474.82927190215\n",
      "Iteration: 7550, A1=448.0071198825049, B1=2.5906687310768293 mse=6474.17369724179\n",
      "Iteration: 7600, A1=447.68342617687387, B1=2.5930513825066823 mse=6473.571346354582\n",
      "Iteration: 7650, A1=447.3597612852111, B1=2.5954338080322716 mse=6473.022199438035\n",
      "Iteration: 7700, A1=447.03612254776766, B1=2.597816027235183 mse=6472.526238440048\n",
      "Iteration: 7750, A1=446.7125073056543, B1=2.600198059690222 mse=6472.083447057572\n",
      "Iteration: 7800, A1=446.3889129007544, B1=2.602579924966053 mse=6471.693810735546\n",
      "Iteration: 7850, A1=446.0653366756356, B1=2.604961642625849 mse=6471.357316665822\n",
      "Iteration: 7900, A1=445.74177597346363, B1=2.6073432322279264 mse=6471.073953786304\n",
      "Iteration: 7950, A1=445.4182281379145, B1=2.6097247133263957 mse=6470.843712780156\n",
      "Iteration: 8000, A1=445.0946905130876, B1=2.6121061054717964 mse=6470.666586075176\n",
      "Iteration: 8050, A1=444.7711604434173, B1=2.6144874282117443 mse=6470.542567843237\n",
      "Iteration: 8100, A1=444.4476352735877, B1=2.6168687010915734 mse=6470.471653999886\n",
      "Iteration: 8150, A1=444.12411234844427, B1=2.61924994365497 mse=6470.453842204093\n",
      "Iteration: 8200, A1=443.8005890129061, B1=2.6216311754446275 mse=6470.489131858037\n",
      "Iteration: 8250, A1=443.47706261188006, B1=2.6240124160028775 mse=6470.5775241071\n",
      "Iteration: 8300, A1=443.15353049017295, B1=2.626393684872333 mse=6470.719021839917\n",
      "Iteration: 8350, A1=442.8299899924042, B1=2.628775001596534 mse=6470.913629688612\n",
      "Iteration: 8400, A1=442.5064384629192, B1=2.6311563857205864 mse=6471.161354029091\n",
      "Iteration: 8450, A1=442.1828732457015, B1=2.633537856791804 mse=6471.462202981491\n",
      "Iteration: 8500, A1=441.85929168428635, B1=2.635919434360352 mse=6471.816186410766\n",
      "Iteration: 8550, A1=441.53569112167264, B1=2.6383011379798833 mse=6472.2233159273455\n",
      "Iteration: 8600, A1=441.2120689002361, B1=2.6406829872081863 mse=6472.683604887965\n",
      "Iteration: 8650, A1=440.88842236164146, B1=2.64306500160783 mse=6473.1970683965865\n",
      "Iteration: 8700, A1=440.56474884675583, B1=2.6454472007468013 mse=6473.7637233054675\n",
      "Iteration: 8750, A1=440.24104569556084, B1=2.647829604199146 mse=6474.383588216312\n",
      "Iteration: 8800, A1=439.9173102470653, B1=2.6502122315456225 mse=6475.056683481591\n",
      "Iteration: 8850, A1=439.59353983921665, B1=2.652595102374336 mse=6475.7830312059405\n",
      "Iteration: 8900, A1=439.26973180881515, B1=2.654978236281392 mse=6476.562655247757\n",
      "Iteration: 8950, A1=438.9458834914248, B1=2.6573616528715296 mse=6477.395581220776\n"
     ]
    }
   ],
   "source": [
    "for i in range (9000):\n",
    "    A1 -= alpha*(1/n)*np.sum((A1+B1*X-y)**2)\n",
    "    B1 -= alpha*(2/n)*np.sum((A1+B1*X-y)*X)\n",
    "    if i%50==0:\n",
    "        print('Iteration: {i}, A1={A1}, B1={B1} mse={mse}'.format(i=i, A1=A1, B1=B1, mse=mse_(A1, B1)))"
   ]
  },
  {
   "cell_type": "code",
   "execution_count": 39,
   "metadata": {},
   "outputs": [
    {
     "data": {
      "text/plain": [
       "6470.453844137501"
      ]
     },
     "execution_count": 39,
     "metadata": {},
     "output_type": "execute_result"
    }
   ],
   "source": [
    "mse_(444.1241, 2.61925)"
   ]
  }
 ],
 "metadata": {
  "kernelspec": {
   "display_name": "Python 3",
   "language": "python",
   "name": "python3"
  },
  "language_info": {
   "codemirror_mode": {
    "name": "ipython",
    "version": 3
   },
   "file_extension": ".py",
   "mimetype": "text/x-python",
   "name": "python",
   "nbconvert_exporter": "python",
   "pygments_lexer": "ipython3",
   "version": "3.8.5"
  }
 },
 "nbformat": 4,
 "nbformat_minor": 4
}
