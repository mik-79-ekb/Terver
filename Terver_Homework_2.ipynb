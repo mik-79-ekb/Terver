{
 "cells": [
  {
   "cell_type": "markdown",
   "metadata": {},
   "source": [
    "## Homework_2"
   ]
  },
  {
   "cell_type": "code",
   "execution_count": 2,
   "metadata": {},
   "outputs": [],
   "source": [
    "from math import factorial\n",
    "from math import e"
   ]
  },
  {
   "cell_type": "markdown",
   "metadata": {},
   "source": [
    "1.\tВероятность того, что стрелок попадет в мишень, выстрелив один раз, равна 0.8. \n",
    "Стрелок выстрелил 100 раз. Найдите вероятность того, что стрелок попадет в цель ровно 85 раз."
   ]
  },
  {
   "cell_type": "code",
   "execution_count": 3,
   "metadata": {},
   "outputs": [
    {
     "name": "stdout",
     "output_type": "stream",
     "text": [
      "probability_1: 0.048061793700746355\n"
     ]
    }
   ],
   "source": [
    "k = 85\n",
    "n = 100\n",
    "p = 0.8\n",
    "probability_1 = (factorial(n) / ((factorial(n-k) * factorial (k)))) * p**k * (1-p)**(n-k)\n",
    "print(\"probability_1:\", probability_1)"
   ]
  },
  {
   "cell_type": "markdown",
   "metadata": {},
   "source": [
    "2.\tВероятность того, что лампочка перегорит в течение первого дня эксплуатации, равна 0.0004. \n",
    "В жилом комплексе после ремонта в один день включили 5000 новых лампочек. \n",
    "Какова вероятность, что ни одна из них не перегорит в первый день? Какова вероятность, что перегорят ровно две?"
   ]
  },
  {
   "cell_type": "code",
   "execution_count": 5,
   "metadata": {},
   "outputs": [],
   "source": [
    "# a"
   ]
  },
  {
   "cell_type": "code",
   "execution_count": 6,
   "metadata": {
    "scrolled": true
   },
   "outputs": [
    {
     "name": "stdout",
     "output_type": "stream",
     "text": [
      "probability_2a: 0.1353352832366127\n"
     ]
    }
   ],
   "source": [
    "m = 0\n",
    "n = 5000\n",
    "p = 0.0004\n",
    "probability_2a = ((p*n)**m / factorial(m)) * (e**(-p*n))\n",
    "print(\"probability_2a:\", probability_2a)"
   ]
  },
  {
   "cell_type": "code",
   "execution_count": 8,
   "metadata": {},
   "outputs": [],
   "source": [
    "# b"
   ]
  },
  {
   "cell_type": "code",
   "execution_count": 9,
   "metadata": {},
   "outputs": [
    {
     "name": "stdout",
     "output_type": "stream",
     "text": [
      "probability_2b: 0.2706705664732254\n"
     ]
    }
   ],
   "source": [
    "m = 2\n",
    "n = 5000\n",
    "p = 0.0004\n",
    "probability_2b = ((p*n)**m / factorial(m)) * (e**(-p*n))\n",
    "print(\"probability_2b:\", probability_2b)"
   ]
  },
  {
   "cell_type": "markdown",
   "metadata": {},
   "source": [
    "3.\tМонету подбросили 144 раза. Какова вероятность, что орел выпадет ровно 70 раз?"
   ]
  },
  {
   "cell_type": "code",
   "execution_count": 10,
   "metadata": {},
   "outputs": [
    {
     "name": "stdout",
     "output_type": "stream",
     "text": [
      "probability_3: 0.06281178035144776\n"
     ]
    }
   ],
   "source": [
    "k = 70\n",
    "n = 144\n",
    "p = 0.5\n",
    "probability_3 = (factorial(n) / ((factorial(n-k) * factorial (k)))) * p**k * (1-p)**(n-k)\n",
    "print(\"probability_3:\", probability_3)"
   ]
  },
  {
   "cell_type": "markdown",
   "metadata": {},
   "source": [
    "4.\tВ первом ящике находится 10 мячей, из которых 7 - белые. Во втором ящике -11 мячей, из которых 9 белых. \n",
    "Из каждого ящика вытаскивают случайным образом по два мяча. Какова вероятность того, что все мячи белые? \n",
    "Какова вероятность того, что ровно два мяча белые? Какова вероятность того, что хотя бы один мяч белый?"
   ]
  },
  {
   "cell_type": "code",
   "execution_count": null,
   "metadata": {},
   "outputs": [],
   "source": [
    "# a"
   ]
  },
  {
   "cell_type": "code",
   "execution_count": 11,
   "metadata": {},
   "outputs": [
    {
     "name": "stdout",
     "output_type": "stream",
     "text": [
      "probability_4a: 0.30545454545454537\n"
     ]
    }
   ],
   "source": [
    "probability_4a = (7 / 10 * 6 / 9) * (9 / 11 * 8 / 10)\n",
    "print(\"probability_4a:\", probability_4a)"
   ]
  },
  {
   "cell_type": "code",
   "execution_count": null,
   "metadata": {},
   "outputs": [],
   "source": [
    "# b"
   ]
  },
  {
   "cell_type": "code",
   "execution_count": 12,
   "metadata": {},
   "outputs": [
    {
     "name": "stdout",
     "output_type": "stream",
     "text": [
      "probability_4b: 0.20484848484848484\n"
     ]
    }
   ],
   "source": [
    "probability_4b = (7 / 10 * 6 / 9) * (2 / 11 * 1 / 10) + (3 / 10 * 2 / 9) * (9 / 11 * 8 / 10) + \\\n",
    "                 (3 / 10 * 7 / 9) * (2 / 11 * 9 / 10) + (3 / 10 * 7 / 9) * (9 / 11 * 2 / 10) + \\\n",
    "                 (7 / 10 * 3 / 9) * (9 / 11 * 2 / 10) + (7 / 10 * 3 / 9) * (2 / 11 * 9 / 10)\n",
    "print(\"probability_4b:\", probability_4b)"
   ]
  },
  {
   "cell_type": "markdown",
   "metadata": {},
   "source": [
    "c"
   ]
  },
  {
   "cell_type": "code",
   "execution_count": 14,
   "metadata": {},
   "outputs": [
    {
     "name": "stdout",
     "output_type": "stream",
     "text": [
      "probability_4c: 0.9987878787878788\n"
     ]
    }
   ],
   "source": [
    "probability_4c= 1 - (3 / 10 * 2 / 9) * (2 / 11 * 1 / 10)\n",
    "print(\"probability_4c:\", probability_4c)"
   ]
  }
 ],
 "metadata": {
  "kernelspec": {
   "display_name": "Python 3",
   "language": "python",
   "name": "python3"
  },
  "language_info": {
   "codemirror_mode": {
    "name": "ipython",
    "version": 3
   },
   "file_extension": ".py",
   "mimetype": "text/x-python",
   "name": "python",
   "nbconvert_exporter": "python",
   "pygments_lexer": "ipython3",
   "version": "3.8.5"
  }
 },
 "nbformat": 4,
 "nbformat_minor": 4
}
