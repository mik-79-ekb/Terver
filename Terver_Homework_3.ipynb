{
 "cells": [
  {
   "cell_type": "markdown",
   "metadata": {},
   "source": [
    "## Homework_3"
   ]
  },
  {
   "cell_type": "code",
   "execution_count": 1,
   "metadata": {},
   "outputs": [],
   "source": [
    "from math import factorial\n",
    "from math import e\n",
    "from math import sqrt"
   ]
  },
  {
   "cell_type": "code",
   "execution_count": 2,
   "metadata": {},
   "outputs": [],
   "source": [
    "def combinations (n, k):\n",
    "    return int(factorial(n) / (factorial(k) * factorial(n - k)))"
   ]
  },
  {
   "cell_type": "markdown",
   "metadata": {},
   "source": [
    "1.\tДаны значения зарплат из выборки выпускников: 100, 80, 75,77, 89, 33,45, 25, 65,17, 30,\n",
    "24, 57, 55, 70, 75, 65, 84, 90,150. \n",
    "Посчитать (желательно без использования статистических методов наподобие std, var, mean) \n",
    "среднее арифметическое, среднее квадратичное отклонение, смещенную и несмещенную оценки дисперсий для данной выборки."
   ]
  },
  {
   "cell_type": "code",
   "execution_count": 3,
   "metadata": {},
   "outputs": [],
   "source": [
    "array = [100, 80, 75, 77, 89, 33, 45, 25, 65, 17, 30, 24, 57, 55, 70, 75, 65, 84, 90, 150]\n",
    "array.sort()\n",
    "mean = sum(array)/len(array)\n",
    "S = sqrt(sum((x - mean)**2 for x in array) / (len(array) - 1))\n",
    "d_unbiased = (sum((x - mean)**2 for x in array)) / (len(array))\n",
    "d_biased = (sum((x - mean)**2 for x in array)) / (len(array) - 1)"
   ]
  },
  {
   "cell_type": "code",
   "execution_count": 4,
   "metadata": {},
   "outputs": [
    {
     "name": "stdout",
     "output_type": "stream",
     "text": [
      "mean: 65.3\n",
      "S: 31.624607341019814\n",
      "d_unbiased: 950.11\n",
      "d_biased: 1000.1157894736842\n"
     ]
    }
   ],
   "source": [
    "print(\"mean:\", mean)\n",
    "print(\"S:\", S)\n",
    "print(\"d_unbiased:\", d_unbiased)\n",
    "print(\"d_biased:\", d_biased)"
   ]
  },
  {
   "cell_type": "markdown",
   "metadata": {},
   "source": [
    "2.\tВ первом ящике находится 8 мячей, из которых 5 - белые. Во втором ящике -12 мячей, из которых 5 белых. \n",
    "Из первого ящика вытаскивают случайным образом два мяча, из второго - 4. \n",
    "Какова вероятность того, что 3 мяча белые?"
   ]
  },
  {
   "cell_type": "code",
   "execution_count": 5,
   "metadata": {},
   "outputs": [],
   "source": [
    "prob_1 = combinations(5, 2) / combinations(8, 2) * (combinations(5, 1) * combinations(7, 3)) / combinations(12, 4)\n",
    "prob_2 = (combinations(5, 1) * combinations(3, 1)) / combinations(8, 2) * (combinations(5, 2) * combinations(7, 2)) / combinations(12, 4)\n",
    "prob_3 = combinations(3, 2) / combinations(8, 2) * (combinations(5, 3) * combinations(7, 1)) / combinations(12, 4)\n",
    "probability_2 = prob_1 + prob_2 + prob_3"
   ]
  },
  {
   "cell_type": "code",
   "execution_count": 6,
   "metadata": {},
   "outputs": [
    {
     "name": "stdout",
     "output_type": "stream",
     "text": [
      "probability_2: 0.3686868686868687\n"
     ]
    }
   ],
   "source": [
    "print(\"probability_2:\", probability_2)"
   ]
  },
  {
   "cell_type": "markdown",
   "metadata": {},
   "source": [
    "3.\tНа соревновании по биатлону один из трех спортсменов стреляет и попадает в мишень. \n",
    "Вероятность попадания для первого спортсмена равна 0.9, для второго - 0.8, для третьего - 0.6. \n",
    "Найти вероятность того, что выстрел произведен: а), первым спортсменом б), вторым спортсменом \n",
    "в), третьим спортсменом."
   ]
  },
  {
   "cell_type": "code",
   "execution_count": 7,
   "metadata": {},
   "outputs": [],
   "source": [
    "prob_common = 1 / 3 * 0.9 + 1 / 3 * 0.8 + 1 / 3 * 0.6"
   ]
  },
  {
   "cell_type": "markdown",
   "metadata": {},
   "source": [
    "а) первый спортсмен"
   ]
  },
  {
   "cell_type": "code",
   "execution_count": 8,
   "metadata": {},
   "outputs": [
    {
     "name": "stdout",
     "output_type": "stream",
     "text": [
      "probability_3a: 0.391304347826087\n"
     ]
    }
   ],
   "source": [
    "prob_a = 1 / 3 * 0.9 / prob_common\n",
    "print(\"probability_3a:\", prob_a)"
   ]
  },
  {
   "cell_type": "markdown",
   "metadata": {},
   "source": [
    "б) второй спортсмен"
   ]
  },
  {
   "cell_type": "code",
   "execution_count": 9,
   "metadata": {},
   "outputs": [
    {
     "name": "stdout",
     "output_type": "stream",
     "text": [
      "probability_3b: 0.3478260869565218\n"
     ]
    }
   ],
   "source": [
    "prob_b = 1 / 3 * 0.8 / prob_common\n",
    "print(\"probability_3b:\", prob_b)"
   ]
  },
  {
   "cell_type": "markdown",
   "metadata": {},
   "source": [
    "в) третий спортсмен"
   ]
  },
  {
   "cell_type": "code",
   "execution_count": 10,
   "metadata": {},
   "outputs": [
    {
     "name": "stdout",
     "output_type": "stream",
     "text": [
      "probability_3c: 0.2608695652173913\n"
     ]
    }
   ],
   "source": [
    "prob_c = 1 / 3 * 0.6 / prob_common\n",
    "print(\"probability_3c:\", prob_c)"
   ]
  },
  {
   "cell_type": "markdown",
   "metadata": {},
   "source": [
    "4.\tВ университет на факультеты А и В поступило равное количество студентов, а на факультет С \n",
    "студентов поступило столько же, сколько на А и В вместе. \n",
    "Вероятность того, что студент факультета А сдаст первую сессию, равна 0.8. \n",
    "Для студента факультета В эта вероятность равна 0.7, а для студента факультета С - 0.9. \n",
    "Студент сдал первую сессию. Какова вероятность, что он учится: а), на факультете А \n",
    "б), на факультете В в), на факультете С?"
   ]
  },
  {
   "cell_type": "code",
   "execution_count": 11,
   "metadata": {},
   "outputs": [],
   "source": [
    "probability_common = 1 / 4 * 0.8 + 1 / 4 * 0.7 + 1 / 2 * 0.9"
   ]
  },
  {
   "cell_type": "markdown",
   "metadata": {},
   "source": [
    "а) на факультете А"
   ]
  },
  {
   "cell_type": "code",
   "execution_count": 12,
   "metadata": {},
   "outputs": [
    {
     "name": "stdout",
     "output_type": "stream",
     "text": [
      "probability_4a: 0.24242424242424246\n"
     ]
    }
   ],
   "source": [
    "probability_a = 1 / 4 * 0.8 / probability_common\n",
    "print(\"probability_4a:\", probability_a)"
   ]
  },
  {
   "cell_type": "markdown",
   "metadata": {},
   "source": [
    "б) на факультете В"
   ]
  },
  {
   "cell_type": "code",
   "execution_count": 13,
   "metadata": {},
   "outputs": [
    {
     "name": "stdout",
     "output_type": "stream",
     "text": [
      "probability_4b: 0.21212121212121213\n"
     ]
    }
   ],
   "source": [
    "probability_b = 1 / 4 * 0.7 / probability_common\n",
    "print(\"probability_4b:\", probability_b)"
   ]
  },
  {
   "cell_type": "markdown",
   "metadata": {},
   "source": [
    "в) на факультете С"
   ]
  },
  {
   "cell_type": "code",
   "execution_count": 14,
   "metadata": {},
   "outputs": [
    {
     "name": "stdout",
     "output_type": "stream",
     "text": [
      "probability_4c: 0.5454545454545455\n"
     ]
    }
   ],
   "source": [
    "probability_c = 1 / 2 * 0.9 / probability_common\n",
    "print(\"probability_4c:\", probability_c)"
   ]
  },
  {
   "cell_type": "markdown",
   "metadata": {},
   "source": [
    "5.\tУстройство состоит из трех деталей. \n",
    "Для первой детали вероятность выйти из строя в первый месяц равна 0.1, \n",
    "для второй -0.2, для третьей - 0.25. \n",
    "Какова вероятность того, что в первый месяц выйдут из строя: а), все детали \n",
    "б), только две детали в), хотя бы одна деталь г), от одной до двух деталей?"
   ]
  },
  {
   "cell_type": "code",
   "execution_count": 15,
   "metadata": {},
   "outputs": [],
   "source": [
    "### ни одна деталь не выйдет из строя"
   ]
  },
  {
   "cell_type": "code",
   "execution_count": 16,
   "metadata": {},
   "outputs": [],
   "source": [
    "prob_nodetails = (1 - 0.1) * (1 - 0.2) * (1 - 0.25)"
   ]
  },
  {
   "cell_type": "code",
   "execution_count": 17,
   "metadata": {
    "scrolled": true
   },
   "outputs": [
    {
     "data": {
      "text/plain": [
       "0.54"
      ]
     },
     "execution_count": 17,
     "metadata": {},
     "output_type": "execute_result"
    }
   ],
   "source": [
    "prob_nodetails"
   ]
  },
  {
   "cell_type": "code",
   "execution_count": 18,
   "metadata": {},
   "outputs": [],
   "source": [
    "### одна деталь выйдет из строя"
   ]
  },
  {
   "cell_type": "code",
   "execution_count": 19,
   "metadata": {},
   "outputs": [],
   "source": [
    "prob_1detail = 0.1 * (1 - 0.2) * (1 - 0.25) + 0.2 * (1 - 0.1) * (1 - 0.25)+ 0.25 * (1 - 0.1) * (1 - 0.2)"
   ]
  },
  {
   "cell_type": "code",
   "execution_count": 20,
   "metadata": {},
   "outputs": [
    {
     "data": {
      "text/plain": [
       "0.375"
      ]
     },
     "execution_count": 20,
     "metadata": {},
     "output_type": "execute_result"
    }
   ],
   "source": [
    "prob_1detail"
   ]
  },
  {
   "cell_type": "markdown",
   "metadata": {},
   "source": [
    " а) все детали "
   ]
  },
  {
   "cell_type": "code",
   "execution_count": 21,
   "metadata": {},
   "outputs": [],
   "source": [
    "prob_alldetails = 0.1 * 0.2 * 0.25"
   ]
  },
  {
   "cell_type": "code",
   "execution_count": 22,
   "metadata": {},
   "outputs": [
    {
     "name": "stdout",
     "output_type": "stream",
     "text": [
      "probability_5a: 0.005000000000000001\n"
     ]
    }
   ],
   "source": [
    "print(\"probability_5a:\", prob_alldetails)"
   ]
  },
  {
   "cell_type": "markdown",
   "metadata": {},
   "source": [
    " б) только две детали"
   ]
  },
  {
   "cell_type": "code",
   "execution_count": 23,
   "metadata": {},
   "outputs": [],
   "source": [
    "prob_2details = 1 - prob_nodetails - prob_alldetails - prob_1detail"
   ]
  },
  {
   "cell_type": "code",
   "execution_count": 24,
   "metadata": {},
   "outputs": [
    {
     "name": "stdout",
     "output_type": "stream",
     "text": [
      "probability_5b: 0.07999999999999996\n"
     ]
    }
   ],
   "source": [
    "print(\"probability_5b:\", prob_2details)"
   ]
  },
  {
   "cell_type": "markdown",
   "metadata": {},
   "source": [
    "в) хотя бы одна деталь"
   ]
  },
  {
   "cell_type": "code",
   "execution_count": 25,
   "metadata": {},
   "outputs": [],
   "source": [
    "prob_1andmore_details = 1 - prob_nodetails"
   ]
  },
  {
   "cell_type": "code",
   "execution_count": 26,
   "metadata": {},
   "outputs": [
    {
     "name": "stdout",
     "output_type": "stream",
     "text": [
      "probability_5c: 0.45999999999999996\n"
     ]
    }
   ],
   "source": [
    "print(\"probability_5c:\", prob_1andmore_details)"
   ]
  },
  {
   "cell_type": "markdown",
   "metadata": {},
   "source": [
    "г) от одной до двух деталей"
   ]
  },
  {
   "cell_type": "code",
   "execution_count": 27,
   "metadata": {},
   "outputs": [],
   "source": [
    "prob_1or2_details = 1 - prob_nodetails - prob_alldetails"
   ]
  },
  {
   "cell_type": "code",
   "execution_count": 28,
   "metadata": {},
   "outputs": [
    {
     "name": "stdout",
     "output_type": "stream",
     "text": [
      "probability_5d: 0.45499999999999996\n"
     ]
    }
   ],
   "source": [
    "print(\"probability_5d:\", prob_1or2_details)"
   ]
  }
 ],
 "metadata": {
  "kernelspec": {
   "display_name": "Python 3",
   "language": "python",
   "name": "python3"
  },
  "language_info": {
   "codemirror_mode": {
    "name": "ipython",
    "version": 3
   },
   "file_extension": ".py",
   "mimetype": "text/x-python",
   "name": "python",
   "nbconvert_exporter": "python",
   "pygments_lexer": "ipython3",
   "version": "3.8.5"
  }
 },
 "nbformat": 4,
 "nbformat_minor": 4
}
